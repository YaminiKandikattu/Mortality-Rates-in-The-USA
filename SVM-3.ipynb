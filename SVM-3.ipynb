{
 "cells": [
  {
   "cell_type": "code",
   "execution_count": 1,
   "id": "ce4a8e1a",
   "metadata": {},
   "outputs": [],
   "source": [
    "import pandas as pd\n",
    "import numpy as np"
   ]
  },
  {
   "cell_type": "code",
   "execution_count": 2,
   "id": "72d8e64a",
   "metadata": {},
   "outputs": [
    {
     "name": "stdout",
     "output_type": "stream",
     "text": [
      "Requirement already satisfied: seaborn in ./opt/anaconda3/envs/python/lib/python3.9/site-packages (0.12.2)\n",
      "Requirement already satisfied: numpy!=1.24.0,>=1.17 in ./opt/anaconda3/envs/python/lib/python3.9/site-packages (from seaborn) (1.24.2)\n",
      "Requirement already satisfied: pandas>=0.25 in ./opt/anaconda3/envs/python/lib/python3.9/site-packages (from seaborn) (1.5.3)\n",
      "Requirement already satisfied: matplotlib!=3.6.1,>=3.1 in ./opt/anaconda3/envs/python/lib/python3.9/site-packages (from seaborn) (3.7.0)\n",
      "Requirement already satisfied: cycler>=0.10 in ./opt/anaconda3/envs/python/lib/python3.9/site-packages (from matplotlib!=3.6.1,>=3.1->seaborn) (0.11.0)\n",
      "Requirement already satisfied: python-dateutil>=2.7 in ./opt/anaconda3/envs/python/lib/python3.9/site-packages (from matplotlib!=3.6.1,>=3.1->seaborn) (2.8.2)\n",
      "Requirement already satisfied: contourpy>=1.0.1 in ./opt/anaconda3/envs/python/lib/python3.9/site-packages (from matplotlib!=3.6.1,>=3.1->seaborn) (1.0.7)\n",
      "Requirement already satisfied: pillow>=6.2.0 in ./opt/anaconda3/envs/python/lib/python3.9/site-packages (from matplotlib!=3.6.1,>=3.1->seaborn) (9.4.0)\n",
      "Requirement already satisfied: packaging>=20.0 in ./opt/anaconda3/envs/python/lib/python3.9/site-packages (from matplotlib!=3.6.1,>=3.1->seaborn) (22.0)\n",
      "Requirement already satisfied: importlib-resources>=3.2.0 in ./opt/anaconda3/envs/python/lib/python3.9/site-packages (from matplotlib!=3.6.1,>=3.1->seaborn) (5.12.0)\n",
      "Requirement already satisfied: fonttools>=4.22.0 in ./opt/anaconda3/envs/python/lib/python3.9/site-packages (from matplotlib!=3.6.1,>=3.1->seaborn) (4.38.0)\n",
      "Requirement already satisfied: pyparsing>=2.3.1 in ./opt/anaconda3/envs/python/lib/python3.9/site-packages (from matplotlib!=3.6.1,>=3.1->seaborn) (3.0.9)\n",
      "Requirement already satisfied: kiwisolver>=1.0.1 in ./opt/anaconda3/envs/python/lib/python3.9/site-packages (from matplotlib!=3.6.1,>=3.1->seaborn) (1.4.4)\n",
      "Requirement already satisfied: pytz>=2020.1 in ./opt/anaconda3/envs/python/lib/python3.9/site-packages (from pandas>=0.25->seaborn) (2022.7.1)\n",
      "Requirement already satisfied: zipp>=3.1.0 in ./opt/anaconda3/envs/python/lib/python3.9/site-packages (from importlib-resources>=3.2.0->matplotlib!=3.6.1,>=3.1->seaborn) (3.15.0)\n",
      "Requirement already satisfied: six>=1.5 in ./opt/anaconda3/envs/python/lib/python3.9/site-packages (from python-dateutil>=2.7->matplotlib!=3.6.1,>=3.1->seaborn) (1.16.0)\n",
      "Note: you may need to restart the kernel to use updated packages.\n"
     ]
    }
   ],
   "source": [
    "pip install seaborn"
   ]
  },
  {
   "cell_type": "code",
   "execution_count": 3,
   "id": "bca17b94",
   "metadata": {},
   "outputs": [],
   "source": [
    "#from sklearn.decomposition import PCA\n",
    "import pandas as pd\n",
    "from sklearn.model_selection import train_test_split\n",
    "from sklearn.metrics import confusion_matrix\n",
    "from sklearn.feature_extraction.text import CountVectorizer\n",
    "import matplotlib.pyplot as plt\n",
    "import seaborn as sns"
   ]
  },
  {
   "cell_type": "code",
   "execution_count": 4,
   "id": "beb510f5",
   "metadata": {},
   "outputs": [],
   "source": [
    "missing_values = [\"N/a\",\"na\",np.nan]"
   ]
  },
  {
   "cell_type": "code",
   "execution_count": 5,
   "id": "95ba3d39",
   "metadata": {},
   "outputs": [],
   "source": [
    "df_final2 = pd.read_csv(\"/Users/yaminipriyankakandikattu/Desktop/AH_Monthly_Provisional_Counts_of_Deaths_for_Select_Causes_of_Death_by_Sex__Age__and_Race_and_Hispanic_Origin.csv\",na_values = missing_values,thousands=',')"
   ]
  },
  {
   "cell_type": "code",
   "execution_count": 6,
   "id": "733e8bf2",
   "metadata": {},
   "outputs": [
    {
     "data": {
      "text/html": [
       "<div>\n",
       "<style scoped>\n",
       "    .dataframe tbody tr th:only-of-type {\n",
       "        vertical-align: middle;\n",
       "    }\n",
       "\n",
       "    .dataframe tbody tr th {\n",
       "        vertical-align: top;\n",
       "    }\n",
       "\n",
       "    .dataframe thead th {\n",
       "        text-align: right;\n",
       "    }\n",
       "</style>\n",
       "<table border=\"1\" class=\"dataframe\">\n",
       "  <thead>\n",
       "    <tr style=\"text-align: right;\">\n",
       "      <th></th>\n",
       "      <th>AnalysisDate</th>\n",
       "      <th>Date Of Death Year</th>\n",
       "      <th>Date Of Death Month</th>\n",
       "      <th>Start Date</th>\n",
       "      <th>End Date</th>\n",
       "      <th>Jurisdiction of Occurrence</th>\n",
       "      <th>Sex</th>\n",
       "      <th>Race/Ethnicity</th>\n",
       "      <th>AgeGroup</th>\n",
       "      <th>AllCause</th>\n",
       "      <th>...</th>\n",
       "      <th>Alzheimer disease (G30)</th>\n",
       "      <th>Influenza and pneumonia (J09-J18)</th>\n",
       "      <th>Chronic lower respiratory diseases (J40-J47)</th>\n",
       "      <th>Other diseases of respiratory system (J00-J06,J30-J39,J67,J70-J98)</th>\n",
       "      <th>Nephritis, nephrotic syndrome and nephrosis (N00-N07,N17-N19,N25-N27)</th>\n",
       "      <th>Symptoms, signs and abnormal clinical and laboratory findings, not elsewhere classified (R00-R99)</th>\n",
       "      <th>Diseases of heart (I00-I09,I11,I13,I20-I51)</th>\n",
       "      <th>Cerebrovascular diseases (I60-I69)</th>\n",
       "      <th>COVID-19 (U071, Multiple Cause of Death)</th>\n",
       "      <th>COVID-19 (U071, Underlying Cause of Death)</th>\n",
       "    </tr>\n",
       "  </thead>\n",
       "  <tbody>\n",
       "    <tr>\n",
       "      <th>0</th>\n",
       "      <td>10/13/2021</td>\n",
       "      <td>2019</td>\n",
       "      <td>7</td>\n",
       "      <td>07/01/2019</td>\n",
       "      <td>07/31/2019</td>\n",
       "      <td>United States</td>\n",
       "      <td>M</td>\n",
       "      <td>Other</td>\n",
       "      <td>0-4 years</td>\n",
       "      <td>61</td>\n",
       "      <td>...</td>\n",
       "      <td>0</td>\n",
       "      <td>1</td>\n",
       "      <td>0</td>\n",
       "      <td>1</td>\n",
       "      <td>0</td>\n",
       "      <td>6</td>\n",
       "      <td>0</td>\n",
       "      <td>1</td>\n",
       "      <td>0</td>\n",
       "      <td>0</td>\n",
       "    </tr>\n",
       "    <tr>\n",
       "      <th>1</th>\n",
       "      <td>10/13/2021</td>\n",
       "      <td>2019</td>\n",
       "      <td>9</td>\n",
       "      <td>09/01/2019</td>\n",
       "      <td>09/30/2019</td>\n",
       "      <td>United States</td>\n",
       "      <td>F</td>\n",
       "      <td>Other</td>\n",
       "      <td>25-34 years</td>\n",
       "      <td>26</td>\n",
       "      <td>...</td>\n",
       "      <td>0</td>\n",
       "      <td>0</td>\n",
       "      <td>0</td>\n",
       "      <td>0</td>\n",
       "      <td>0</td>\n",
       "      <td>0</td>\n",
       "      <td>1</td>\n",
       "      <td>1</td>\n",
       "      <td>0</td>\n",
       "      <td>0</td>\n",
       "    </tr>\n",
       "    <tr>\n",
       "      <th>2</th>\n",
       "      <td>10/13/2021</td>\n",
       "      <td>2020</td>\n",
       "      <td>3</td>\n",
       "      <td>03/01/2020</td>\n",
       "      <td>03/31/2020</td>\n",
       "      <td>United States</td>\n",
       "      <td>F</td>\n",
       "      <td>Other</td>\n",
       "      <td>0-4 years</td>\n",
       "      <td>40</td>\n",
       "      <td>...</td>\n",
       "      <td>0</td>\n",
       "      <td>1</td>\n",
       "      <td>0</td>\n",
       "      <td>0</td>\n",
       "      <td>0</td>\n",
       "      <td>7</td>\n",
       "      <td>0</td>\n",
       "      <td>0</td>\n",
       "      <td>0</td>\n",
       "      <td>0</td>\n",
       "    </tr>\n",
       "    <tr>\n",
       "      <th>3</th>\n",
       "      <td>10/13/2021</td>\n",
       "      <td>2020</td>\n",
       "      <td>3</td>\n",
       "      <td>03/01/2020</td>\n",
       "      <td>03/31/2020</td>\n",
       "      <td>United States</td>\n",
       "      <td>F</td>\n",
       "      <td>Other</td>\n",
       "      <td>5-14 years</td>\n",
       "      <td>6</td>\n",
       "      <td>...</td>\n",
       "      <td>0</td>\n",
       "      <td>1</td>\n",
       "      <td>0</td>\n",
       "      <td>0</td>\n",
       "      <td>0</td>\n",
       "      <td>0</td>\n",
       "      <td>0</td>\n",
       "      <td>0</td>\n",
       "      <td>0</td>\n",
       "      <td>0</td>\n",
       "    </tr>\n",
       "    <tr>\n",
       "      <th>4</th>\n",
       "      <td>10/13/2021</td>\n",
       "      <td>2020</td>\n",
       "      <td>3</td>\n",
       "      <td>03/01/2020</td>\n",
       "      <td>03/31/2020</td>\n",
       "      <td>United States</td>\n",
       "      <td>F</td>\n",
       "      <td>Other</td>\n",
       "      <td>15-24 years</td>\n",
       "      <td>14</td>\n",
       "      <td>...</td>\n",
       "      <td>0</td>\n",
       "      <td>0</td>\n",
       "      <td>0</td>\n",
       "      <td>0</td>\n",
       "      <td>0</td>\n",
       "      <td>1</td>\n",
       "      <td>0</td>\n",
       "      <td>0</td>\n",
       "      <td>0</td>\n",
       "      <td>0</td>\n",
       "    </tr>\n",
       "  </tbody>\n",
       "</table>\n",
       "<p>5 rows × 24 columns</p>\n",
       "</div>"
      ],
      "text/plain": [
       "  AnalysisDate  Date Of Death Year  Date Of Death Month  Start Date  \\\n",
       "0   10/13/2021                2019                    7  07/01/2019   \n",
       "1   10/13/2021                2019                    9  09/01/2019   \n",
       "2   10/13/2021                2020                    3  03/01/2020   \n",
       "3   10/13/2021                2020                    3  03/01/2020   \n",
       "4   10/13/2021                2020                    3  03/01/2020   \n",
       "\n",
       "     End Date Jurisdiction of Occurrence Sex Race/Ethnicity     AgeGroup  \\\n",
       "0  07/31/2019              United States   M          Other    0-4 years   \n",
       "1  09/30/2019              United States   F          Other  25-34 years   \n",
       "2  03/31/2020              United States   F          Other    0-4 years   \n",
       "3  03/31/2020              United States   F          Other   5-14 years   \n",
       "4  03/31/2020              United States   F          Other  15-24 years   \n",
       "\n",
       "   AllCause  ...  Alzheimer disease (G30)  Influenza and pneumonia (J09-J18)  \\\n",
       "0        61  ...                        0                                  1   \n",
       "1        26  ...                        0                                  0   \n",
       "2        40  ...                        0                                  1   \n",
       "3         6  ...                        0                                  1   \n",
       "4        14  ...                        0                                  0   \n",
       "\n",
       "   Chronic lower respiratory diseases (J40-J47)  \\\n",
       "0                                             0   \n",
       "1                                             0   \n",
       "2                                             0   \n",
       "3                                             0   \n",
       "4                                             0   \n",
       "\n",
       "   Other diseases of respiratory system (J00-J06,J30-J39,J67,J70-J98)  \\\n",
       "0                                                  1                    \n",
       "1                                                  0                    \n",
       "2                                                  0                    \n",
       "3                                                  0                    \n",
       "4                                                  0                    \n",
       "\n",
       "   Nephritis, nephrotic syndrome and nephrosis (N00-N07,N17-N19,N25-N27)  \\\n",
       "0                                                  0                       \n",
       "1                                                  0                       \n",
       "2                                                  0                       \n",
       "3                                                  0                       \n",
       "4                                                  0                       \n",
       "\n",
       "   Symptoms, signs and abnormal clinical and laboratory findings, not elsewhere classified (R00-R99)  \\\n",
       "0                                                  6                                                   \n",
       "1                                                  0                                                   \n",
       "2                                                  7                                                   \n",
       "3                                                  0                                                   \n",
       "4                                                  1                                                   \n",
       "\n",
       "   Diseases of heart (I00-I09,I11,I13,I20-I51)  \\\n",
       "0                                            0   \n",
       "1                                            1   \n",
       "2                                            0   \n",
       "3                                            0   \n",
       "4                                            0   \n",
       "\n",
       "   Cerebrovascular diseases (I60-I69)  \\\n",
       "0                                   1   \n",
       "1                                   1   \n",
       "2                                   0   \n",
       "3                                   0   \n",
       "4                                   0   \n",
       "\n",
       "   COVID-19 (U071, Multiple Cause of Death)  \\\n",
       "0                                         0   \n",
       "1                                         0   \n",
       "2                                         0   \n",
       "3                                         0   \n",
       "4                                         0   \n",
       "\n",
       "   COVID-19 (U071, Underlying Cause of Death)  \n",
       "0                                           0  \n",
       "1                                           0  \n",
       "2                                           0  \n",
       "3                                           0  \n",
       "4                                           0  \n",
       "\n",
       "[5 rows x 24 columns]"
      ]
     },
     "execution_count": 6,
     "metadata": {},
     "output_type": "execute_result"
    }
   ],
   "source": [
    "df_final2.head()"
   ]
  },
  {
   "cell_type": "code",
   "execution_count": 7,
   "id": "682cfc51",
   "metadata": {},
   "outputs": [
    {
     "data": {
      "text/plain": [
       "AnalysisDate                                                                                         0\n",
       "Date Of Death Year                                                                                   0\n",
       "Date Of Death Month                                                                                  0\n",
       "Start Date                                                                                           0\n",
       "End Date                                                                                             0\n",
       "Jurisdiction of Occurrence                                                                           0\n",
       "Sex                                                                                                  0\n",
       "Race/Ethnicity                                                                                       0\n",
       "AgeGroup                                                                                             0\n",
       "AllCause                                                                                             0\n",
       "NaturalCause                                                                                         0\n",
       "SepticeMia (A40-A41)                                                                                 0\n",
       "Malignant neoplasms (C00-C97)                                                                        0\n",
       "Diabetes mellitus (E10-E14)                                                                          0\n",
       "Alzheimer disease (G30)                                                                              0\n",
       "Influenza and pneumonia (J09-J18)                                                                    0\n",
       "Chronic lower respiratory diseases (J40-J47)                                                         0\n",
       "Other diseases of respiratory system (J00-J06,J30-J39,J67,J70-J98)                                   0\n",
       "Nephritis, nephrotic syndrome and nephrosis (N00-N07,N17-N19,N25-N27)                                0\n",
       "Symptoms, signs and abnormal clinical and laboratory findings, not elsewhere classified (R00-R99)    0\n",
       "Diseases of heart (I00-I09,I11,I13,I20-I51)                                                          0\n",
       "Cerebrovascular diseases (I60-I69)                                                                   0\n",
       "COVID-19 (U071, Multiple Cause of Death)                                                             0\n",
       "COVID-19 (U071, Underlying Cause of Death)                                                           0\n",
       "dtype: int64"
      ]
     },
     "execution_count": 7,
     "metadata": {},
     "output_type": "execute_result"
    }
   ],
   "source": [
    "df_final2.isnull().sum()"
   ]
  },
  {
   "cell_type": "code",
   "execution_count": 8,
   "id": "dac00ea1",
   "metadata": {},
   "outputs": [
    {
     "name": "stdout",
     "output_type": "stream",
     "text": [
      "<class 'pandas.core.frame.DataFrame'>\n",
      "RangeIndex: 3960 entries, 0 to 3959\n",
      "Data columns (total 24 columns):\n",
      " #   Column                                                                                             Non-Null Count  Dtype \n",
      "---  ------                                                                                             --------------  ----- \n",
      " 0   AnalysisDate                                                                                       3960 non-null   object\n",
      " 1   Date Of Death Year                                                                                 3960 non-null   int64 \n",
      " 2   Date Of Death Month                                                                                3960 non-null   int64 \n",
      " 3   Start Date                                                                                         3960 non-null   object\n",
      " 4   End Date                                                                                           3960 non-null   object\n",
      " 5   Jurisdiction of Occurrence                                                                         3960 non-null   object\n",
      " 6   Sex                                                                                                3960 non-null   object\n",
      " 7   Race/Ethnicity                                                                                     3960 non-null   object\n",
      " 8   AgeGroup                                                                                           3960 non-null   object\n",
      " 9   AllCause                                                                                           3960 non-null   int64 \n",
      " 10  NaturalCause                                                                                       3960 non-null   int64 \n",
      " 11  SepticeMia (A40-A41)                                                                               3960 non-null   int64 \n",
      " 12  Malignant neoplasms (C00-C97)                                                                      3960 non-null   int64 \n",
      " 13  Diabetes mellitus (E10-E14)                                                                        3960 non-null   int64 \n",
      " 14  Alzheimer disease (G30)                                                                            3960 non-null   int64 \n",
      " 15  Influenza and pneumonia (J09-J18)                                                                  3960 non-null   int64 \n",
      " 16  Chronic lower respiratory diseases (J40-J47)                                                       3960 non-null   int64 \n",
      " 17  Other diseases of respiratory system (J00-J06,J30-J39,J67,J70-J98)                                 3960 non-null   int64 \n",
      " 18  Nephritis, nephrotic syndrome and nephrosis (N00-N07,N17-N19,N25-N27)                              3960 non-null   int64 \n",
      " 19  Symptoms, signs and abnormal clinical and laboratory findings, not elsewhere classified (R00-R99)  3960 non-null   int64 \n",
      " 20  Diseases of heart (I00-I09,I11,I13,I20-I51)                                                        3960 non-null   int64 \n",
      " 21  Cerebrovascular diseases (I60-I69)                                                                 3960 non-null   int64 \n",
      " 22  COVID-19 (U071, Multiple Cause of Death)                                                           3960 non-null   int64 \n",
      " 23  COVID-19 (U071, Underlying Cause of Death)                                                         3960 non-null   int64 \n",
      "dtypes: int64(17), object(7)\n",
      "memory usage: 742.6+ KB\n"
     ]
    }
   ],
   "source": [
    "df_final2.info()"
   ]
  },
  {
   "cell_type": "markdown",
   "id": "b4c73aaf",
   "metadata": {},
   "source": [
    "df_final2 = pd.melt(df_final2, id_vars = ['AnalysisDate','Date Of Death Year','Date Of Death Month','Start Date',\n",
    "'End Date','Jurisdiction of Occurrence','Sex','Race/Ethnicity','AgeGroup',],\n",
    "        var_name = 'Cause of death', value_name = 'No Of deaths')"
   ]
  },
  {
   "cell_type": "code",
   "execution_count": 9,
   "id": "27f36266",
   "metadata": {},
   "outputs": [],
   "source": [
    "df_final2_3=df_final2.drop(['AnalysisDate','Date Of Death Year','Date Of Death Month','Start Date','End Date'], axis=1)"
   ]
  },
  {
   "cell_type": "markdown",
   "id": "c79bd0e1",
   "metadata": {},
   "source": [
    "df_final2_3 = df_final2.loc[df_final2['Cause of death'] != 'AllCause',] \n",
    "df_final2_3 = df_final2.loc[df_final2['Sex'] != 'AllCause', ] \n",
    "df_final2_3 = df_final2.loc[df_final2['No Of deaths'] != '0',] "
   ]
  },
  {
   "cell_type": "code",
   "execution_count": 10,
   "id": "f2d27e72",
   "metadata": {},
   "outputs": [],
   "source": [
    "df_final2_3=df_final2_3.drop(['Jurisdiction of Occurrence','Race/Ethnicity','AgeGroup'], \n",
    "               axis=1)"
   ]
  },
  {
   "cell_type": "code",
   "execution_count": 11,
   "id": "6902ffd6",
   "metadata": {},
   "outputs": [
    {
     "data": {
      "text/html": [
       "<div>\n",
       "<style scoped>\n",
       "    .dataframe tbody tr th:only-of-type {\n",
       "        vertical-align: middle;\n",
       "    }\n",
       "\n",
       "    .dataframe tbody tr th {\n",
       "        vertical-align: top;\n",
       "    }\n",
       "\n",
       "    .dataframe thead th {\n",
       "        text-align: right;\n",
       "    }\n",
       "</style>\n",
       "<table border=\"1\" class=\"dataframe\">\n",
       "  <thead>\n",
       "    <tr style=\"text-align: right;\">\n",
       "      <th></th>\n",
       "      <th>Sex</th>\n",
       "      <th>AllCause</th>\n",
       "      <th>NaturalCause</th>\n",
       "      <th>SepticeMia (A40-A41)</th>\n",
       "      <th>Malignant neoplasms (C00-C97)</th>\n",
       "      <th>Diabetes mellitus (E10-E14)</th>\n",
       "      <th>Alzheimer disease (G30)</th>\n",
       "      <th>Influenza and pneumonia (J09-J18)</th>\n",
       "      <th>Chronic lower respiratory diseases (J40-J47)</th>\n",
       "      <th>Other diseases of respiratory system (J00-J06,J30-J39,J67,J70-J98)</th>\n",
       "      <th>Nephritis, nephrotic syndrome and nephrosis (N00-N07,N17-N19,N25-N27)</th>\n",
       "      <th>Symptoms, signs and abnormal clinical and laboratory findings, not elsewhere classified (R00-R99)</th>\n",
       "      <th>Diseases of heart (I00-I09,I11,I13,I20-I51)</th>\n",
       "      <th>Cerebrovascular diseases (I60-I69)</th>\n",
       "      <th>COVID-19 (U071, Multiple Cause of Death)</th>\n",
       "      <th>COVID-19 (U071, Underlying Cause of Death)</th>\n",
       "    </tr>\n",
       "  </thead>\n",
       "  <tbody>\n",
       "    <tr>\n",
       "      <th>0</th>\n",
       "      <td>M</td>\n",
       "      <td>61</td>\n",
       "      <td>52</td>\n",
       "      <td>0</td>\n",
       "      <td>1</td>\n",
       "      <td>0</td>\n",
       "      <td>0</td>\n",
       "      <td>1</td>\n",
       "      <td>0</td>\n",
       "      <td>1</td>\n",
       "      <td>0</td>\n",
       "      <td>6</td>\n",
       "      <td>0</td>\n",
       "      <td>1</td>\n",
       "      <td>0</td>\n",
       "      <td>0</td>\n",
       "    </tr>\n",
       "    <tr>\n",
       "      <th>1</th>\n",
       "      <td>F</td>\n",
       "      <td>26</td>\n",
       "      <td>8</td>\n",
       "      <td>0</td>\n",
       "      <td>1</td>\n",
       "      <td>0</td>\n",
       "      <td>0</td>\n",
       "      <td>0</td>\n",
       "      <td>0</td>\n",
       "      <td>0</td>\n",
       "      <td>0</td>\n",
       "      <td>0</td>\n",
       "      <td>1</td>\n",
       "      <td>1</td>\n",
       "      <td>0</td>\n",
       "      <td>0</td>\n",
       "    </tr>\n",
       "    <tr>\n",
       "      <th>2</th>\n",
       "      <td>F</td>\n",
       "      <td>40</td>\n",
       "      <td>35</td>\n",
       "      <td>0</td>\n",
       "      <td>0</td>\n",
       "      <td>0</td>\n",
       "      <td>0</td>\n",
       "      <td>1</td>\n",
       "      <td>0</td>\n",
       "      <td>0</td>\n",
       "      <td>0</td>\n",
       "      <td>7</td>\n",
       "      <td>0</td>\n",
       "      <td>0</td>\n",
       "      <td>0</td>\n",
       "      <td>0</td>\n",
       "    </tr>\n",
       "    <tr>\n",
       "      <th>3</th>\n",
       "      <td>F</td>\n",
       "      <td>6</td>\n",
       "      <td>4</td>\n",
       "      <td>1</td>\n",
       "      <td>0</td>\n",
       "      <td>0</td>\n",
       "      <td>0</td>\n",
       "      <td>1</td>\n",
       "      <td>0</td>\n",
       "      <td>0</td>\n",
       "      <td>0</td>\n",
       "      <td>0</td>\n",
       "      <td>0</td>\n",
       "      <td>0</td>\n",
       "      <td>0</td>\n",
       "      <td>0</td>\n",
       "    </tr>\n",
       "    <tr>\n",
       "      <th>4</th>\n",
       "      <td>F</td>\n",
       "      <td>14</td>\n",
       "      <td>2</td>\n",
       "      <td>0</td>\n",
       "      <td>0</td>\n",
       "      <td>0</td>\n",
       "      <td>0</td>\n",
       "      <td>0</td>\n",
       "      <td>0</td>\n",
       "      <td>0</td>\n",
       "      <td>0</td>\n",
       "      <td>1</td>\n",
       "      <td>0</td>\n",
       "      <td>0</td>\n",
       "      <td>0</td>\n",
       "      <td>0</td>\n",
       "    </tr>\n",
       "    <tr>\n",
       "      <th>...</th>\n",
       "      <td>...</td>\n",
       "      <td>...</td>\n",
       "      <td>...</td>\n",
       "      <td>...</td>\n",
       "      <td>...</td>\n",
       "      <td>...</td>\n",
       "      <td>...</td>\n",
       "      <td>...</td>\n",
       "      <td>...</td>\n",
       "      <td>...</td>\n",
       "      <td>...</td>\n",
       "      <td>...</td>\n",
       "      <td>...</td>\n",
       "      <td>...</td>\n",
       "      <td>...</td>\n",
       "      <td>...</td>\n",
       "    </tr>\n",
       "    <tr>\n",
       "      <th>3955</th>\n",
       "      <td>M</td>\n",
       "      <td>179</td>\n",
       "      <td>168</td>\n",
       "      <td>1</td>\n",
       "      <td>15</td>\n",
       "      <td>2</td>\n",
       "      <td>1</td>\n",
       "      <td>1</td>\n",
       "      <td>0</td>\n",
       "      <td>0</td>\n",
       "      <td>2</td>\n",
       "      <td>34</td>\n",
       "      <td>18</td>\n",
       "      <td>2</td>\n",
       "      <td>70</td>\n",
       "      <td>68</td>\n",
       "    </tr>\n",
       "    <tr>\n",
       "      <th>3956</th>\n",
       "      <td>M</td>\n",
       "      <td>237</td>\n",
       "      <td>225</td>\n",
       "      <td>2</td>\n",
       "      <td>34</td>\n",
       "      <td>7</td>\n",
       "      <td>0</td>\n",
       "      <td>3</td>\n",
       "      <td>8</td>\n",
       "      <td>3</td>\n",
       "      <td>2</td>\n",
       "      <td>36</td>\n",
       "      <td>40</td>\n",
       "      <td>8</td>\n",
       "      <td>55</td>\n",
       "      <td>55</td>\n",
       "    </tr>\n",
       "    <tr>\n",
       "      <th>3957</th>\n",
       "      <td>M</td>\n",
       "      <td>263</td>\n",
       "      <td>258</td>\n",
       "      <td>2</td>\n",
       "      <td>51</td>\n",
       "      <td>11</td>\n",
       "      <td>3</td>\n",
       "      <td>4</td>\n",
       "      <td>8</td>\n",
       "      <td>3</td>\n",
       "      <td>4</td>\n",
       "      <td>25</td>\n",
       "      <td>60</td>\n",
       "      <td>7</td>\n",
       "      <td>55</td>\n",
       "      <td>49</td>\n",
       "    </tr>\n",
       "    <tr>\n",
       "      <th>3958</th>\n",
       "      <td>M</td>\n",
       "      <td>203</td>\n",
       "      <td>200</td>\n",
       "      <td>1</td>\n",
       "      <td>35</td>\n",
       "      <td>9</td>\n",
       "      <td>5</td>\n",
       "      <td>2</td>\n",
       "      <td>6</td>\n",
       "      <td>4</td>\n",
       "      <td>4</td>\n",
       "      <td>17</td>\n",
       "      <td>37</td>\n",
       "      <td>8</td>\n",
       "      <td>36</td>\n",
       "      <td>34</td>\n",
       "    </tr>\n",
       "    <tr>\n",
       "      <th>3959</th>\n",
       "      <td>M</td>\n",
       "      <td>116</td>\n",
       "      <td>116</td>\n",
       "      <td>3</td>\n",
       "      <td>13</td>\n",
       "      <td>2</td>\n",
       "      <td>7</td>\n",
       "      <td>1</td>\n",
       "      <td>9</td>\n",
       "      <td>2</td>\n",
       "      <td>1</td>\n",
       "      <td>1</td>\n",
       "      <td>23</td>\n",
       "      <td>7</td>\n",
       "      <td>18</td>\n",
       "      <td>18</td>\n",
       "    </tr>\n",
       "  </tbody>\n",
       "</table>\n",
       "<p>3960 rows × 16 columns</p>\n",
       "</div>"
      ],
      "text/plain": [
       "     Sex  AllCause  NaturalCause  SepticeMia (A40-A41)  \\\n",
       "0      M        61            52                     0   \n",
       "1      F        26             8                     0   \n",
       "2      F        40            35                     0   \n",
       "3      F         6             4                     1   \n",
       "4      F        14             2                     0   \n",
       "...   ..       ...           ...                   ...   \n",
       "3955   M       179           168                     1   \n",
       "3956   M       237           225                     2   \n",
       "3957   M       263           258                     2   \n",
       "3958   M       203           200                     1   \n",
       "3959   M       116           116                     3   \n",
       "\n",
       "      Malignant neoplasms (C00-C97)  Diabetes mellitus (E10-E14)  \\\n",
       "0                                 1                            0   \n",
       "1                                 1                            0   \n",
       "2                                 0                            0   \n",
       "3                                 0                            0   \n",
       "4                                 0                            0   \n",
       "...                             ...                          ...   \n",
       "3955                             15                            2   \n",
       "3956                             34                            7   \n",
       "3957                             51                           11   \n",
       "3958                             35                            9   \n",
       "3959                             13                            2   \n",
       "\n",
       "      Alzheimer disease (G30)  Influenza and pneumonia (J09-J18)  \\\n",
       "0                           0                                  1   \n",
       "1                           0                                  0   \n",
       "2                           0                                  1   \n",
       "3                           0                                  1   \n",
       "4                           0                                  0   \n",
       "...                       ...                                ...   \n",
       "3955                        1                                  1   \n",
       "3956                        0                                  3   \n",
       "3957                        3                                  4   \n",
       "3958                        5                                  2   \n",
       "3959                        7                                  1   \n",
       "\n",
       "      Chronic lower respiratory diseases (J40-J47)  \\\n",
       "0                                                0   \n",
       "1                                                0   \n",
       "2                                                0   \n",
       "3                                                0   \n",
       "4                                                0   \n",
       "...                                            ...   \n",
       "3955                                             0   \n",
       "3956                                             8   \n",
       "3957                                             8   \n",
       "3958                                             6   \n",
       "3959                                             9   \n",
       "\n",
       "      Other diseases of respiratory system (J00-J06,J30-J39,J67,J70-J98)  \\\n",
       "0                                                     1                    \n",
       "1                                                     0                    \n",
       "2                                                     0                    \n",
       "3                                                     0                    \n",
       "4                                                     0                    \n",
       "...                                                 ...                    \n",
       "3955                                                  0                    \n",
       "3956                                                  3                    \n",
       "3957                                                  3                    \n",
       "3958                                                  4                    \n",
       "3959                                                  2                    \n",
       "\n",
       "      Nephritis, nephrotic syndrome and nephrosis (N00-N07,N17-N19,N25-N27)  \\\n",
       "0                                                     0                       \n",
       "1                                                     0                       \n",
       "2                                                     0                       \n",
       "3                                                     0                       \n",
       "4                                                     0                       \n",
       "...                                                 ...                       \n",
       "3955                                                  2                       \n",
       "3956                                                  2                       \n",
       "3957                                                  4                       \n",
       "3958                                                  4                       \n",
       "3959                                                  1                       \n",
       "\n",
       "      Symptoms, signs and abnormal clinical and laboratory findings, not elsewhere classified (R00-R99)  \\\n",
       "0                                                     6                                                   \n",
       "1                                                     0                                                   \n",
       "2                                                     7                                                   \n",
       "3                                                     0                                                   \n",
       "4                                                     1                                                   \n",
       "...                                                 ...                                                   \n",
       "3955                                                 34                                                   \n",
       "3956                                                 36                                                   \n",
       "3957                                                 25                                                   \n",
       "3958                                                 17                                                   \n",
       "3959                                                  1                                                   \n",
       "\n",
       "      Diseases of heart (I00-I09,I11,I13,I20-I51)  \\\n",
       "0                                               0   \n",
       "1                                               1   \n",
       "2                                               0   \n",
       "3                                               0   \n",
       "4                                               0   \n",
       "...                                           ...   \n",
       "3955                                           18   \n",
       "3956                                           40   \n",
       "3957                                           60   \n",
       "3958                                           37   \n",
       "3959                                           23   \n",
       "\n",
       "      Cerebrovascular diseases (I60-I69)  \\\n",
       "0                                      1   \n",
       "1                                      1   \n",
       "2                                      0   \n",
       "3                                      0   \n",
       "4                                      0   \n",
       "...                                  ...   \n",
       "3955                                   2   \n",
       "3956                                   8   \n",
       "3957                                   7   \n",
       "3958                                   8   \n",
       "3959                                   7   \n",
       "\n",
       "      COVID-19 (U071, Multiple Cause of Death)  \\\n",
       "0                                            0   \n",
       "1                                            0   \n",
       "2                                            0   \n",
       "3                                            0   \n",
       "4                                            0   \n",
       "...                                        ...   \n",
       "3955                                        70   \n",
       "3956                                        55   \n",
       "3957                                        55   \n",
       "3958                                        36   \n",
       "3959                                        18   \n",
       "\n",
       "      COVID-19 (U071, Underlying Cause of Death)  \n",
       "0                                              0  \n",
       "1                                              0  \n",
       "2                                              0  \n",
       "3                                              0  \n",
       "4                                              0  \n",
       "...                                          ...  \n",
       "3955                                          68  \n",
       "3956                                          55  \n",
       "3957                                          49  \n",
       "3958                                          34  \n",
       "3959                                          18  \n",
       "\n",
       "[3960 rows x 16 columns]"
      ]
     },
     "execution_count": 11,
     "metadata": {},
     "output_type": "execute_result"
    }
   ],
   "source": [
    "df_final2_3"
   ]
  },
  {
   "cell_type": "code",
   "execution_count": 12,
   "id": "ea7abc3d",
   "metadata": {},
   "outputs": [],
   "source": [
    "df_final2_3=df_final2_3.dropna()"
   ]
  },
  {
   "cell_type": "code",
   "execution_count": 13,
   "id": "e80dbdfb",
   "metadata": {},
   "outputs": [
    {
     "data": {
      "text/html": [
       "<div>\n",
       "<style scoped>\n",
       "    .dataframe tbody tr th:only-of-type {\n",
       "        vertical-align: middle;\n",
       "    }\n",
       "\n",
       "    .dataframe tbody tr th {\n",
       "        vertical-align: top;\n",
       "    }\n",
       "\n",
       "    .dataframe thead th {\n",
       "        text-align: right;\n",
       "    }\n",
       "</style>\n",
       "<table border=\"1\" class=\"dataframe\">\n",
       "  <thead>\n",
       "    <tr style=\"text-align: right;\">\n",
       "      <th></th>\n",
       "      <th>Sex</th>\n",
       "      <th>AllCause</th>\n",
       "      <th>NaturalCause</th>\n",
       "      <th>SepticeMia (A40-A41)</th>\n",
       "      <th>Malignant neoplasms (C00-C97)</th>\n",
       "      <th>Diabetes mellitus (E10-E14)</th>\n",
       "      <th>Alzheimer disease (G30)</th>\n",
       "      <th>Influenza and pneumonia (J09-J18)</th>\n",
       "      <th>Chronic lower respiratory diseases (J40-J47)</th>\n",
       "      <th>Other diseases of respiratory system (J00-J06,J30-J39,J67,J70-J98)</th>\n",
       "      <th>Nephritis, nephrotic syndrome and nephrosis (N00-N07,N17-N19,N25-N27)</th>\n",
       "      <th>Symptoms, signs and abnormal clinical and laboratory findings, not elsewhere classified (R00-R99)</th>\n",
       "      <th>Diseases of heart (I00-I09,I11,I13,I20-I51)</th>\n",
       "      <th>Cerebrovascular diseases (I60-I69)</th>\n",
       "      <th>COVID-19 (U071, Multiple Cause of Death)</th>\n",
       "      <th>COVID-19 (U071, Underlying Cause of Death)</th>\n",
       "    </tr>\n",
       "  </thead>\n",
       "  <tbody>\n",
       "    <tr>\n",
       "      <th>0</th>\n",
       "      <td>M</td>\n",
       "      <td>61</td>\n",
       "      <td>52</td>\n",
       "      <td>0</td>\n",
       "      <td>1</td>\n",
       "      <td>0</td>\n",
       "      <td>0</td>\n",
       "      <td>1</td>\n",
       "      <td>0</td>\n",
       "      <td>1</td>\n",
       "      <td>0</td>\n",
       "      <td>6</td>\n",
       "      <td>0</td>\n",
       "      <td>1</td>\n",
       "      <td>0</td>\n",
       "      <td>0</td>\n",
       "    </tr>\n",
       "    <tr>\n",
       "      <th>1</th>\n",
       "      <td>F</td>\n",
       "      <td>26</td>\n",
       "      <td>8</td>\n",
       "      <td>0</td>\n",
       "      <td>1</td>\n",
       "      <td>0</td>\n",
       "      <td>0</td>\n",
       "      <td>0</td>\n",
       "      <td>0</td>\n",
       "      <td>0</td>\n",
       "      <td>0</td>\n",
       "      <td>0</td>\n",
       "      <td>1</td>\n",
       "      <td>1</td>\n",
       "      <td>0</td>\n",
       "      <td>0</td>\n",
       "    </tr>\n",
       "    <tr>\n",
       "      <th>2</th>\n",
       "      <td>F</td>\n",
       "      <td>40</td>\n",
       "      <td>35</td>\n",
       "      <td>0</td>\n",
       "      <td>0</td>\n",
       "      <td>0</td>\n",
       "      <td>0</td>\n",
       "      <td>1</td>\n",
       "      <td>0</td>\n",
       "      <td>0</td>\n",
       "      <td>0</td>\n",
       "      <td>7</td>\n",
       "      <td>0</td>\n",
       "      <td>0</td>\n",
       "      <td>0</td>\n",
       "      <td>0</td>\n",
       "    </tr>\n",
       "    <tr>\n",
       "      <th>3</th>\n",
       "      <td>F</td>\n",
       "      <td>6</td>\n",
       "      <td>4</td>\n",
       "      <td>1</td>\n",
       "      <td>0</td>\n",
       "      <td>0</td>\n",
       "      <td>0</td>\n",
       "      <td>1</td>\n",
       "      <td>0</td>\n",
       "      <td>0</td>\n",
       "      <td>0</td>\n",
       "      <td>0</td>\n",
       "      <td>0</td>\n",
       "      <td>0</td>\n",
       "      <td>0</td>\n",
       "      <td>0</td>\n",
       "    </tr>\n",
       "    <tr>\n",
       "      <th>4</th>\n",
       "      <td>F</td>\n",
       "      <td>14</td>\n",
       "      <td>2</td>\n",
       "      <td>0</td>\n",
       "      <td>0</td>\n",
       "      <td>0</td>\n",
       "      <td>0</td>\n",
       "      <td>0</td>\n",
       "      <td>0</td>\n",
       "      <td>0</td>\n",
       "      <td>0</td>\n",
       "      <td>1</td>\n",
       "      <td>0</td>\n",
       "      <td>0</td>\n",
       "      <td>0</td>\n",
       "      <td>0</td>\n",
       "    </tr>\n",
       "    <tr>\n",
       "      <th>...</th>\n",
       "      <td>...</td>\n",
       "      <td>...</td>\n",
       "      <td>...</td>\n",
       "      <td>...</td>\n",
       "      <td>...</td>\n",
       "      <td>...</td>\n",
       "      <td>...</td>\n",
       "      <td>...</td>\n",
       "      <td>...</td>\n",
       "      <td>...</td>\n",
       "      <td>...</td>\n",
       "      <td>...</td>\n",
       "      <td>...</td>\n",
       "      <td>...</td>\n",
       "      <td>...</td>\n",
       "      <td>...</td>\n",
       "    </tr>\n",
       "    <tr>\n",
       "      <th>3955</th>\n",
       "      <td>M</td>\n",
       "      <td>179</td>\n",
       "      <td>168</td>\n",
       "      <td>1</td>\n",
       "      <td>15</td>\n",
       "      <td>2</td>\n",
       "      <td>1</td>\n",
       "      <td>1</td>\n",
       "      <td>0</td>\n",
       "      <td>0</td>\n",
       "      <td>2</td>\n",
       "      <td>34</td>\n",
       "      <td>18</td>\n",
       "      <td>2</td>\n",
       "      <td>70</td>\n",
       "      <td>68</td>\n",
       "    </tr>\n",
       "    <tr>\n",
       "      <th>3956</th>\n",
       "      <td>M</td>\n",
       "      <td>237</td>\n",
       "      <td>225</td>\n",
       "      <td>2</td>\n",
       "      <td>34</td>\n",
       "      <td>7</td>\n",
       "      <td>0</td>\n",
       "      <td>3</td>\n",
       "      <td>8</td>\n",
       "      <td>3</td>\n",
       "      <td>2</td>\n",
       "      <td>36</td>\n",
       "      <td>40</td>\n",
       "      <td>8</td>\n",
       "      <td>55</td>\n",
       "      <td>55</td>\n",
       "    </tr>\n",
       "    <tr>\n",
       "      <th>3957</th>\n",
       "      <td>M</td>\n",
       "      <td>263</td>\n",
       "      <td>258</td>\n",
       "      <td>2</td>\n",
       "      <td>51</td>\n",
       "      <td>11</td>\n",
       "      <td>3</td>\n",
       "      <td>4</td>\n",
       "      <td>8</td>\n",
       "      <td>3</td>\n",
       "      <td>4</td>\n",
       "      <td>25</td>\n",
       "      <td>60</td>\n",
       "      <td>7</td>\n",
       "      <td>55</td>\n",
       "      <td>49</td>\n",
       "    </tr>\n",
       "    <tr>\n",
       "      <th>3958</th>\n",
       "      <td>M</td>\n",
       "      <td>203</td>\n",
       "      <td>200</td>\n",
       "      <td>1</td>\n",
       "      <td>35</td>\n",
       "      <td>9</td>\n",
       "      <td>5</td>\n",
       "      <td>2</td>\n",
       "      <td>6</td>\n",
       "      <td>4</td>\n",
       "      <td>4</td>\n",
       "      <td>17</td>\n",
       "      <td>37</td>\n",
       "      <td>8</td>\n",
       "      <td>36</td>\n",
       "      <td>34</td>\n",
       "    </tr>\n",
       "    <tr>\n",
       "      <th>3959</th>\n",
       "      <td>M</td>\n",
       "      <td>116</td>\n",
       "      <td>116</td>\n",
       "      <td>3</td>\n",
       "      <td>13</td>\n",
       "      <td>2</td>\n",
       "      <td>7</td>\n",
       "      <td>1</td>\n",
       "      <td>9</td>\n",
       "      <td>2</td>\n",
       "      <td>1</td>\n",
       "      <td>1</td>\n",
       "      <td>23</td>\n",
       "      <td>7</td>\n",
       "      <td>18</td>\n",
       "      <td>18</td>\n",
       "    </tr>\n",
       "  </tbody>\n",
       "</table>\n",
       "<p>3960 rows × 16 columns</p>\n",
       "</div>"
      ],
      "text/plain": [
       "     Sex  AllCause  NaturalCause  SepticeMia (A40-A41)  \\\n",
       "0      M        61            52                     0   \n",
       "1      F        26             8                     0   \n",
       "2      F        40            35                     0   \n",
       "3      F         6             4                     1   \n",
       "4      F        14             2                     0   \n",
       "...   ..       ...           ...                   ...   \n",
       "3955   M       179           168                     1   \n",
       "3956   M       237           225                     2   \n",
       "3957   M       263           258                     2   \n",
       "3958   M       203           200                     1   \n",
       "3959   M       116           116                     3   \n",
       "\n",
       "      Malignant neoplasms (C00-C97)  Diabetes mellitus (E10-E14)  \\\n",
       "0                                 1                            0   \n",
       "1                                 1                            0   \n",
       "2                                 0                            0   \n",
       "3                                 0                            0   \n",
       "4                                 0                            0   \n",
       "...                             ...                          ...   \n",
       "3955                             15                            2   \n",
       "3956                             34                            7   \n",
       "3957                             51                           11   \n",
       "3958                             35                            9   \n",
       "3959                             13                            2   \n",
       "\n",
       "      Alzheimer disease (G30)  Influenza and pneumonia (J09-J18)  \\\n",
       "0                           0                                  1   \n",
       "1                           0                                  0   \n",
       "2                           0                                  1   \n",
       "3                           0                                  1   \n",
       "4                           0                                  0   \n",
       "...                       ...                                ...   \n",
       "3955                        1                                  1   \n",
       "3956                        0                                  3   \n",
       "3957                        3                                  4   \n",
       "3958                        5                                  2   \n",
       "3959                        7                                  1   \n",
       "\n",
       "      Chronic lower respiratory diseases (J40-J47)  \\\n",
       "0                                                0   \n",
       "1                                                0   \n",
       "2                                                0   \n",
       "3                                                0   \n",
       "4                                                0   \n",
       "...                                            ...   \n",
       "3955                                             0   \n",
       "3956                                             8   \n",
       "3957                                             8   \n",
       "3958                                             6   \n",
       "3959                                             9   \n",
       "\n",
       "      Other diseases of respiratory system (J00-J06,J30-J39,J67,J70-J98)  \\\n",
       "0                                                     1                    \n",
       "1                                                     0                    \n",
       "2                                                     0                    \n",
       "3                                                     0                    \n",
       "4                                                     0                    \n",
       "...                                                 ...                    \n",
       "3955                                                  0                    \n",
       "3956                                                  3                    \n",
       "3957                                                  3                    \n",
       "3958                                                  4                    \n",
       "3959                                                  2                    \n",
       "\n",
       "      Nephritis, nephrotic syndrome and nephrosis (N00-N07,N17-N19,N25-N27)  \\\n",
       "0                                                     0                       \n",
       "1                                                     0                       \n",
       "2                                                     0                       \n",
       "3                                                     0                       \n",
       "4                                                     0                       \n",
       "...                                                 ...                       \n",
       "3955                                                  2                       \n",
       "3956                                                  2                       \n",
       "3957                                                  4                       \n",
       "3958                                                  4                       \n",
       "3959                                                  1                       \n",
       "\n",
       "      Symptoms, signs and abnormal clinical and laboratory findings, not elsewhere classified (R00-R99)  \\\n",
       "0                                                     6                                                   \n",
       "1                                                     0                                                   \n",
       "2                                                     7                                                   \n",
       "3                                                     0                                                   \n",
       "4                                                     1                                                   \n",
       "...                                                 ...                                                   \n",
       "3955                                                 34                                                   \n",
       "3956                                                 36                                                   \n",
       "3957                                                 25                                                   \n",
       "3958                                                 17                                                   \n",
       "3959                                                  1                                                   \n",
       "\n",
       "      Diseases of heart (I00-I09,I11,I13,I20-I51)  \\\n",
       "0                                               0   \n",
       "1                                               1   \n",
       "2                                               0   \n",
       "3                                               0   \n",
       "4                                               0   \n",
       "...                                           ...   \n",
       "3955                                           18   \n",
       "3956                                           40   \n",
       "3957                                           60   \n",
       "3958                                           37   \n",
       "3959                                           23   \n",
       "\n",
       "      Cerebrovascular diseases (I60-I69)  \\\n",
       "0                                      1   \n",
       "1                                      1   \n",
       "2                                      0   \n",
       "3                                      0   \n",
       "4                                      0   \n",
       "...                                  ...   \n",
       "3955                                   2   \n",
       "3956                                   8   \n",
       "3957                                   7   \n",
       "3958                                   8   \n",
       "3959                                   7   \n",
       "\n",
       "      COVID-19 (U071, Multiple Cause of Death)  \\\n",
       "0                                            0   \n",
       "1                                            0   \n",
       "2                                            0   \n",
       "3                                            0   \n",
       "4                                            0   \n",
       "...                                        ...   \n",
       "3955                                        70   \n",
       "3956                                        55   \n",
       "3957                                        55   \n",
       "3958                                        36   \n",
       "3959                                        18   \n",
       "\n",
       "      COVID-19 (U071, Underlying Cause of Death)  \n",
       "0                                              0  \n",
       "1                                              0  \n",
       "2                                              0  \n",
       "3                                              0  \n",
       "4                                              0  \n",
       "...                                          ...  \n",
       "3955                                          68  \n",
       "3956                                          55  \n",
       "3957                                          49  \n",
       "3958                                          34  \n",
       "3959                                          18  \n",
       "\n",
       "[3960 rows x 16 columns]"
      ]
     },
     "execution_count": 13,
     "metadata": {},
     "output_type": "execute_result"
    }
   ],
   "source": [
    "df_final2_3.loc[~(df_final2_3==0).all(axis=1)]"
   ]
  },
  {
   "cell_type": "code",
   "execution_count": 14,
   "id": "c6adc14e",
   "metadata": {},
   "outputs": [
    {
     "data": {
      "text/plain": [
       "Sex                                                                                                  object\n",
       "AllCause                                                                                              int64\n",
       "NaturalCause                                                                                          int64\n",
       "SepticeMia (A40-A41)                                                                                  int64\n",
       "Malignant neoplasms (C00-C97)                                                                         int64\n",
       "Diabetes mellitus (E10-E14)                                                                           int64\n",
       "Alzheimer disease (G30)                                                                               int64\n",
       "Influenza and pneumonia (J09-J18)                                                                     int64\n",
       "Chronic lower respiratory diseases (J40-J47)                                                          int64\n",
       "Other diseases of respiratory system (J00-J06,J30-J39,J67,J70-J98)                                    int64\n",
       "Nephritis, nephrotic syndrome and nephrosis (N00-N07,N17-N19,N25-N27)                                 int64\n",
       "Symptoms, signs and abnormal clinical and laboratory findings, not elsewhere classified (R00-R99)     int64\n",
       "Diseases of heart (I00-I09,I11,I13,I20-I51)                                                           int64\n",
       "Cerebrovascular diseases (I60-I69)                                                                    int64\n",
       "COVID-19 (U071, Multiple Cause of Death)                                                              int64\n",
       "COVID-19 (U071, Underlying Cause of Death)                                                            int64\n",
       "dtype: object"
      ]
     },
     "execution_count": 14,
     "metadata": {},
     "output_type": "execute_result"
    }
   ],
   "source": [
    "df_final2_3.dtypes"
   ]
  },
  {
   "cell_type": "code",
   "execution_count": 15,
   "id": "66efb1dd",
   "metadata": {},
   "outputs": [],
   "source": [
    "train_df, test_df = train_test_split(df_final2_3, test_size=0.3, random_state=321)\n",
    "train_df[\"Sex\"] = train_df[\"Sex\"]\n",
    "test_df[\"Sex\"] = test_df[\"Sex\"]"
   ]
  },
  {
   "cell_type": "code",
   "execution_count": 16,
   "id": "0a7e6668",
   "metadata": {},
   "outputs": [],
   "source": [
    "X_train = train_df.drop(columns=\"Sex\")\n",
    "y_train = train_df[\"Sex\"]\n",
    "X_test = test_df.drop(columns=\"Sex\")\n",
    "y_test = test_df[\"Sex\"]"
   ]
  },
  {
   "cell_type": "code",
   "execution_count": 17,
   "id": "5d278ca3",
   "metadata": {},
   "outputs": [
    {
     "data": {
      "text/html": [
       "<div>\n",
       "<style scoped>\n",
       "    .dataframe tbody tr th:only-of-type {\n",
       "        vertical-align: middle;\n",
       "    }\n",
       "\n",
       "    .dataframe tbody tr th {\n",
       "        vertical-align: top;\n",
       "    }\n",
       "\n",
       "    .dataframe thead th {\n",
       "        text-align: right;\n",
       "    }\n",
       "</style>\n",
       "<table border=\"1\" class=\"dataframe\">\n",
       "  <thead>\n",
       "    <tr style=\"text-align: right;\">\n",
       "      <th></th>\n",
       "      <th>AllCause</th>\n",
       "      <th>NaturalCause</th>\n",
       "      <th>SepticeMia (A40-A41)</th>\n",
       "      <th>Malignant neoplasms (C00-C97)</th>\n",
       "      <th>Diabetes mellitus (E10-E14)</th>\n",
       "      <th>Alzheimer disease (G30)</th>\n",
       "      <th>Influenza and pneumonia (J09-J18)</th>\n",
       "      <th>Chronic lower respiratory diseases (J40-J47)</th>\n",
       "      <th>Other diseases of respiratory system (J00-J06,J30-J39,J67,J70-J98)</th>\n",
       "      <th>Nephritis, nephrotic syndrome and nephrosis (N00-N07,N17-N19,N25-N27)</th>\n",
       "      <th>Symptoms, signs and abnormal clinical and laboratory findings, not elsewhere classified (R00-R99)</th>\n",
       "      <th>Diseases of heart (I00-I09,I11,I13,I20-I51)</th>\n",
       "      <th>Cerebrovascular diseases (I60-I69)</th>\n",
       "      <th>COVID-19 (U071, Multiple Cause of Death)</th>\n",
       "      <th>COVID-19 (U071, Underlying Cause of Death)</th>\n",
       "    </tr>\n",
       "  </thead>\n",
       "  <tbody>\n",
       "    <tr>\n",
       "      <th>3907</th>\n",
       "      <td>2344</td>\n",
       "      <td>2275</td>\n",
       "      <td>28</td>\n",
       "      <td>406</td>\n",
       "      <td>128</td>\n",
       "      <td>23</td>\n",
       "      <td>30</td>\n",
       "      <td>31</td>\n",
       "      <td>30</td>\n",
       "      <td>44</td>\n",
       "      <td>85</td>\n",
       "      <td>327</td>\n",
       "      <td>83</td>\n",
       "      <td>750</td>\n",
       "      <td>723</td>\n",
       "    </tr>\n",
       "    <tr>\n",
       "      <th>3234</th>\n",
       "      <td>86</td>\n",
       "      <td>27</td>\n",
       "      <td>0</td>\n",
       "      <td>3</td>\n",
       "      <td>0</td>\n",
       "      <td>0</td>\n",
       "      <td>0</td>\n",
       "      <td>1</td>\n",
       "      <td>0</td>\n",
       "      <td>1</td>\n",
       "      <td>4</td>\n",
       "      <td>6</td>\n",
       "      <td>0</td>\n",
       "      <td>0</td>\n",
       "      <td>0</td>\n",
       "    </tr>\n",
       "    <tr>\n",
       "      <th>3275</th>\n",
       "      <td>771</td>\n",
       "      <td>579</td>\n",
       "      <td>9</td>\n",
       "      <td>91</td>\n",
       "      <td>31</td>\n",
       "      <td>0</td>\n",
       "      <td>3</td>\n",
       "      <td>7</td>\n",
       "      <td>3</td>\n",
       "      <td>15</td>\n",
       "      <td>41</td>\n",
       "      <td>105</td>\n",
       "      <td>31</td>\n",
       "      <td>85</td>\n",
       "      <td>78</td>\n",
       "    </tr>\n",
       "    <tr>\n",
       "      <th>3202</th>\n",
       "      <td>7</td>\n",
       "      <td>7</td>\n",
       "      <td>0</td>\n",
       "      <td>4</td>\n",
       "      <td>0</td>\n",
       "      <td>0</td>\n",
       "      <td>0</td>\n",
       "      <td>0</td>\n",
       "      <td>0</td>\n",
       "      <td>0</td>\n",
       "      <td>0</td>\n",
       "      <td>1</td>\n",
       "      <td>1</td>\n",
       "      <td>1</td>\n",
       "      <td>0</td>\n",
       "    </tr>\n",
       "    <tr>\n",
       "      <th>1211</th>\n",
       "      <td>1352</td>\n",
       "      <td>1307</td>\n",
       "      <td>30</td>\n",
       "      <td>411</td>\n",
       "      <td>90</td>\n",
       "      <td>25</td>\n",
       "      <td>24</td>\n",
       "      <td>35</td>\n",
       "      <td>29</td>\n",
       "      <td>48</td>\n",
       "      <td>13</td>\n",
       "      <td>224</td>\n",
       "      <td>85</td>\n",
       "      <td>0</td>\n",
       "      <td>0</td>\n",
       "    </tr>\n",
       "  </tbody>\n",
       "</table>\n",
       "</div>"
      ],
      "text/plain": [
       "      AllCause  NaturalCause  SepticeMia (A40-A41)  \\\n",
       "3907      2344          2275                    28   \n",
       "3234        86            27                     0   \n",
       "3275       771           579                     9   \n",
       "3202         7             7                     0   \n",
       "1211      1352          1307                    30   \n",
       "\n",
       "      Malignant neoplasms (C00-C97)  Diabetes mellitus (E10-E14)  \\\n",
       "3907                            406                          128   \n",
       "3234                              3                            0   \n",
       "3275                             91                           31   \n",
       "3202                              4                            0   \n",
       "1211                            411                           90   \n",
       "\n",
       "      Alzheimer disease (G30)  Influenza and pneumonia (J09-J18)  \\\n",
       "3907                       23                                 30   \n",
       "3234                        0                                  0   \n",
       "3275                        0                                  3   \n",
       "3202                        0                                  0   \n",
       "1211                       25                                 24   \n",
       "\n",
       "      Chronic lower respiratory diseases (J40-J47)  \\\n",
       "3907                                            31   \n",
       "3234                                             1   \n",
       "3275                                             7   \n",
       "3202                                             0   \n",
       "1211                                            35   \n",
       "\n",
       "      Other diseases of respiratory system (J00-J06,J30-J39,J67,J70-J98)  \\\n",
       "3907                                                 30                    \n",
       "3234                                                  0                    \n",
       "3275                                                  3                    \n",
       "3202                                                  0                    \n",
       "1211                                                 29                    \n",
       "\n",
       "      Nephritis, nephrotic syndrome and nephrosis (N00-N07,N17-N19,N25-N27)  \\\n",
       "3907                                                 44                       \n",
       "3234                                                  1                       \n",
       "3275                                                 15                       \n",
       "3202                                                  0                       \n",
       "1211                                                 48                       \n",
       "\n",
       "      Symptoms, signs and abnormal clinical and laboratory findings, not elsewhere classified (R00-R99)  \\\n",
       "3907                                                 85                                                   \n",
       "3234                                                  4                                                   \n",
       "3275                                                 41                                                   \n",
       "3202                                                  0                                                   \n",
       "1211                                                 13                                                   \n",
       "\n",
       "      Diseases of heart (I00-I09,I11,I13,I20-I51)  \\\n",
       "3907                                          327   \n",
       "3234                                            6   \n",
       "3275                                          105   \n",
       "3202                                            1   \n",
       "1211                                          224   \n",
       "\n",
       "      Cerebrovascular diseases (I60-I69)  \\\n",
       "3907                                  83   \n",
       "3234                                   0   \n",
       "3275                                  31   \n",
       "3202                                   1   \n",
       "1211                                  85   \n",
       "\n",
       "      COVID-19 (U071, Multiple Cause of Death)  \\\n",
       "3907                                       750   \n",
       "3234                                         0   \n",
       "3275                                        85   \n",
       "3202                                         1   \n",
       "1211                                         0   \n",
       "\n",
       "      COVID-19 (U071, Underlying Cause of Death)  \n",
       "3907                                         723  \n",
       "3234                                           0  \n",
       "3275                                          78  \n",
       "3202                                           0  \n",
       "1211                                           0  "
      ]
     },
     "execution_count": 17,
     "metadata": {},
     "output_type": "execute_result"
    }
   ],
   "source": [
    "X_train.head()"
   ]
  },
  {
   "cell_type": "code",
   "execution_count": 18,
   "id": "f03aae50",
   "metadata": {},
   "outputs": [
    {
     "data": {
      "text/plain": [
       "3907    M\n",
       "3234    M\n",
       "3275    F\n",
       "3202    M\n",
       "1211    F\n",
       "       ..\n",
       "1833    F\n",
       "2847    M\n",
       "124     M\n",
       "2586    M\n",
       "3060    F\n",
       "Name: Sex, Length: 2772, dtype: object"
      ]
     },
     "execution_count": 18,
     "metadata": {},
     "output_type": "execute_result"
    }
   ],
   "source": [
    "y_train"
   ]
  },
  {
   "cell_type": "code",
   "execution_count": 19,
   "id": "5dcfdf16",
   "metadata": {},
   "outputs": [
    {
     "data": {
      "text/html": [
       "<div>\n",
       "<style scoped>\n",
       "    .dataframe tbody tr th:only-of-type {\n",
       "        vertical-align: middle;\n",
       "    }\n",
       "\n",
       "    .dataframe tbody tr th {\n",
       "        vertical-align: top;\n",
       "    }\n",
       "\n",
       "    .dataframe thead th {\n",
       "        text-align: right;\n",
       "    }\n",
       "</style>\n",
       "<table border=\"1\" class=\"dataframe\">\n",
       "  <thead>\n",
       "    <tr style=\"text-align: right;\">\n",
       "      <th></th>\n",
       "      <th>AllCause</th>\n",
       "      <th>NaturalCause</th>\n",
       "      <th>SepticeMia (A40-A41)</th>\n",
       "      <th>Malignant neoplasms (C00-C97)</th>\n",
       "      <th>Diabetes mellitus (E10-E14)</th>\n",
       "      <th>Alzheimer disease (G30)</th>\n",
       "      <th>Influenza and pneumonia (J09-J18)</th>\n",
       "      <th>Chronic lower respiratory diseases (J40-J47)</th>\n",
       "      <th>Other diseases of respiratory system (J00-J06,J30-J39,J67,J70-J98)</th>\n",
       "      <th>Nephritis, nephrotic syndrome and nephrosis (N00-N07,N17-N19,N25-N27)</th>\n",
       "      <th>Symptoms, signs and abnormal clinical and laboratory findings, not elsewhere classified (R00-R99)</th>\n",
       "      <th>Diseases of heart (I00-I09,I11,I13,I20-I51)</th>\n",
       "      <th>Cerebrovascular diseases (I60-I69)</th>\n",
       "      <th>COVID-19 (U071, Multiple Cause of Death)</th>\n",
       "      <th>COVID-19 (U071, Underlying Cause of Death)</th>\n",
       "    </tr>\n",
       "  </thead>\n",
       "  <tbody>\n",
       "    <tr>\n",
       "      <th>1730</th>\n",
       "      <td>9272</td>\n",
       "      <td>8581</td>\n",
       "      <td>166</td>\n",
       "      <td>3059</td>\n",
       "      <td>295</td>\n",
       "      <td>58</td>\n",
       "      <td>282</td>\n",
       "      <td>780</td>\n",
       "      <td>169</td>\n",
       "      <td>121</td>\n",
       "      <td>83</td>\n",
       "      <td>1376</td>\n",
       "      <td>286</td>\n",
       "      <td>87</td>\n",
       "      <td>81</td>\n",
       "    </tr>\n",
       "    <tr>\n",
       "      <th>2354</th>\n",
       "      <td>85</td>\n",
       "      <td>31</td>\n",
       "      <td>1</td>\n",
       "      <td>1</td>\n",
       "      <td>0</td>\n",
       "      <td>0</td>\n",
       "      <td>0</td>\n",
       "      <td>0</td>\n",
       "      <td>0</td>\n",
       "      <td>2</td>\n",
       "      <td>2</td>\n",
       "      <td>2</td>\n",
       "      <td>0</td>\n",
       "      <td>8</td>\n",
       "      <td>8</td>\n",
       "    </tr>\n",
       "    <tr>\n",
       "      <th>2178</th>\n",
       "      <td>198</td>\n",
       "      <td>190</td>\n",
       "      <td>2</td>\n",
       "      <td>31</td>\n",
       "      <td>27</td>\n",
       "      <td>4</td>\n",
       "      <td>5</td>\n",
       "      <td>10</td>\n",
       "      <td>3</td>\n",
       "      <td>1</td>\n",
       "      <td>0</td>\n",
       "      <td>21</td>\n",
       "      <td>7</td>\n",
       "      <td>53</td>\n",
       "      <td>50</td>\n",
       "    </tr>\n",
       "    <tr>\n",
       "      <th>1967</th>\n",
       "      <td>9000</td>\n",
       "      <td>8307</td>\n",
       "      <td>158</td>\n",
       "      <td>2933</td>\n",
       "      <td>306</td>\n",
       "      <td>42</td>\n",
       "      <td>110</td>\n",
       "      <td>597</td>\n",
       "      <td>133</td>\n",
       "      <td>97</td>\n",
       "      <td>50</td>\n",
       "      <td>1432</td>\n",
       "      <td>263</td>\n",
       "      <td>552</td>\n",
       "      <td>502</td>\n",
       "    </tr>\n",
       "    <tr>\n",
       "      <th>1267</th>\n",
       "      <td>588</td>\n",
       "      <td>169</td>\n",
       "      <td>2</td>\n",
       "      <td>31</td>\n",
       "      <td>6</td>\n",
       "      <td>0</td>\n",
       "      <td>1</td>\n",
       "      <td>3</td>\n",
       "      <td>5</td>\n",
       "      <td>0</td>\n",
       "      <td>11</td>\n",
       "      <td>26</td>\n",
       "      <td>3</td>\n",
       "      <td>0</td>\n",
       "      <td>0</td>\n",
       "    </tr>\n",
       "  </tbody>\n",
       "</table>\n",
       "</div>"
      ],
      "text/plain": [
       "      AllCause  NaturalCause  SepticeMia (A40-A41)  \\\n",
       "1730      9272          8581                   166   \n",
       "2354        85            31                     1   \n",
       "2178       198           190                     2   \n",
       "1967      9000          8307                   158   \n",
       "1267       588           169                     2   \n",
       "\n",
       "      Malignant neoplasms (C00-C97)  Diabetes mellitus (E10-E14)  \\\n",
       "1730                           3059                          295   \n",
       "2354                              1                            0   \n",
       "2178                             31                           27   \n",
       "1967                           2933                          306   \n",
       "1267                             31                            6   \n",
       "\n",
       "      Alzheimer disease (G30)  Influenza and pneumonia (J09-J18)  \\\n",
       "1730                       58                                282   \n",
       "2354                        0                                  0   \n",
       "2178                        4                                  5   \n",
       "1967                       42                                110   \n",
       "1267                        0                                  1   \n",
       "\n",
       "      Chronic lower respiratory diseases (J40-J47)  \\\n",
       "1730                                           780   \n",
       "2354                                             0   \n",
       "2178                                            10   \n",
       "1967                                           597   \n",
       "1267                                             3   \n",
       "\n",
       "      Other diseases of respiratory system (J00-J06,J30-J39,J67,J70-J98)  \\\n",
       "1730                                                169                    \n",
       "2354                                                  0                    \n",
       "2178                                                  3                    \n",
       "1967                                                133                    \n",
       "1267                                                  5                    \n",
       "\n",
       "      Nephritis, nephrotic syndrome and nephrosis (N00-N07,N17-N19,N25-N27)  \\\n",
       "1730                                                121                       \n",
       "2354                                                  2                       \n",
       "2178                                                  1                       \n",
       "1967                                                 97                       \n",
       "1267                                                  0                       \n",
       "\n",
       "      Symptoms, signs and abnormal clinical and laboratory findings, not elsewhere classified (R00-R99)  \\\n",
       "1730                                                 83                                                   \n",
       "2354                                                  2                                                   \n",
       "2178                                                  0                                                   \n",
       "1967                                                 50                                                   \n",
       "1267                                                 11                                                   \n",
       "\n",
       "      Diseases of heart (I00-I09,I11,I13,I20-I51)  \\\n",
       "1730                                         1376   \n",
       "2354                                            2   \n",
       "2178                                           21   \n",
       "1967                                         1432   \n",
       "1267                                           26   \n",
       "\n",
       "      Cerebrovascular diseases (I60-I69)  \\\n",
       "1730                                 286   \n",
       "2354                                   0   \n",
       "2178                                   7   \n",
       "1967                                 263   \n",
       "1267                                   3   \n",
       "\n",
       "      COVID-19 (U071, Multiple Cause of Death)  \\\n",
       "1730                                        87   \n",
       "2354                                         8   \n",
       "2178                                        53   \n",
       "1967                                       552   \n",
       "1267                                         0   \n",
       "\n",
       "      COVID-19 (U071, Underlying Cause of Death)  \n",
       "1730                                          81  \n",
       "2354                                           8  \n",
       "2178                                          50  \n",
       "1967                                         502  \n",
       "1267                                           0  "
      ]
     },
     "execution_count": 19,
     "metadata": {},
     "output_type": "execute_result"
    }
   ],
   "source": [
    "X_test.head()"
   ]
  },
  {
   "cell_type": "code",
   "execution_count": 20,
   "id": "cebc0c3e",
   "metadata": {},
   "outputs": [
    {
     "data": {
      "text/plain": [
       "1730    F\n",
       "2354    M\n",
       "2178    F\n",
       "1967    F\n",
       "1267    M\n",
       "       ..\n",
       "1564    F\n",
       "1333    F\n",
       "1413    M\n",
       "1000    F\n",
       "1166    M\n",
       "Name: Sex, Length: 1188, dtype: object"
      ]
     },
     "execution_count": 20,
     "metadata": {},
     "output_type": "execute_result"
    }
   ],
   "source": [
    "y_test"
   ]
  },
  {
   "cell_type": "code",
   "execution_count": 21,
   "id": "44c413e4",
   "metadata": {},
   "outputs": [
    {
     "data": {
      "text/html": [
       "<div>\n",
       "<style scoped>\n",
       "    .dataframe tbody tr th:only-of-type {\n",
       "        vertical-align: middle;\n",
       "    }\n",
       "\n",
       "    .dataframe tbody tr th {\n",
       "        vertical-align: top;\n",
       "    }\n",
       "\n",
       "    .dataframe thead th {\n",
       "        text-align: right;\n",
       "    }\n",
       "</style>\n",
       "<table border=\"1\" class=\"dataframe\">\n",
       "  <thead>\n",
       "    <tr style=\"text-align: right;\">\n",
       "      <th></th>\n",
       "      <th>Sex</th>\n",
       "      <th>AllCause</th>\n",
       "      <th>NaturalCause</th>\n",
       "      <th>SepticeMia (A40-A41)</th>\n",
       "      <th>Malignant neoplasms (C00-C97)</th>\n",
       "      <th>Diabetes mellitus (E10-E14)</th>\n",
       "      <th>Alzheimer disease (G30)</th>\n",
       "      <th>Influenza and pneumonia (J09-J18)</th>\n",
       "      <th>Chronic lower respiratory diseases (J40-J47)</th>\n",
       "      <th>Other diseases of respiratory system (J00-J06,J30-J39,J67,J70-J98)</th>\n",
       "      <th>Nephritis, nephrotic syndrome and nephrosis (N00-N07,N17-N19,N25-N27)</th>\n",
       "      <th>Symptoms, signs and abnormal clinical and laboratory findings, not elsewhere classified (R00-R99)</th>\n",
       "      <th>Diseases of heart (I00-I09,I11,I13,I20-I51)</th>\n",
       "      <th>Cerebrovascular diseases (I60-I69)</th>\n",
       "      <th>COVID-19 (U071, Multiple Cause of Death)</th>\n",
       "      <th>COVID-19 (U071, Underlying Cause of Death)</th>\n",
       "    </tr>\n",
       "  </thead>\n",
       "  <tbody>\n",
       "    <tr>\n",
       "      <th>3907</th>\n",
       "      <td>M</td>\n",
       "      <td>2344</td>\n",
       "      <td>2275</td>\n",
       "      <td>28</td>\n",
       "      <td>406</td>\n",
       "      <td>128</td>\n",
       "      <td>23</td>\n",
       "      <td>30</td>\n",
       "      <td>31</td>\n",
       "      <td>30</td>\n",
       "      <td>44</td>\n",
       "      <td>85</td>\n",
       "      <td>327</td>\n",
       "      <td>83</td>\n",
       "      <td>750</td>\n",
       "      <td>723</td>\n",
       "    </tr>\n",
       "    <tr>\n",
       "      <th>3234</th>\n",
       "      <td>M</td>\n",
       "      <td>86</td>\n",
       "      <td>27</td>\n",
       "      <td>0</td>\n",
       "      <td>3</td>\n",
       "      <td>0</td>\n",
       "      <td>0</td>\n",
       "      <td>0</td>\n",
       "      <td>1</td>\n",
       "      <td>0</td>\n",
       "      <td>1</td>\n",
       "      <td>4</td>\n",
       "      <td>6</td>\n",
       "      <td>0</td>\n",
       "      <td>0</td>\n",
       "      <td>0</td>\n",
       "    </tr>\n",
       "    <tr>\n",
       "      <th>3275</th>\n",
       "      <td>F</td>\n",
       "      <td>771</td>\n",
       "      <td>579</td>\n",
       "      <td>9</td>\n",
       "      <td>91</td>\n",
       "      <td>31</td>\n",
       "      <td>0</td>\n",
       "      <td>3</td>\n",
       "      <td>7</td>\n",
       "      <td>3</td>\n",
       "      <td>15</td>\n",
       "      <td>41</td>\n",
       "      <td>105</td>\n",
       "      <td>31</td>\n",
       "      <td>85</td>\n",
       "      <td>78</td>\n",
       "    </tr>\n",
       "    <tr>\n",
       "      <th>3202</th>\n",
       "      <td>M</td>\n",
       "      <td>7</td>\n",
       "      <td>7</td>\n",
       "      <td>0</td>\n",
       "      <td>4</td>\n",
       "      <td>0</td>\n",
       "      <td>0</td>\n",
       "      <td>0</td>\n",
       "      <td>0</td>\n",
       "      <td>0</td>\n",
       "      <td>0</td>\n",
       "      <td>0</td>\n",
       "      <td>1</td>\n",
       "      <td>1</td>\n",
       "      <td>1</td>\n",
       "      <td>0</td>\n",
       "    </tr>\n",
       "    <tr>\n",
       "      <th>1211</th>\n",
       "      <td>F</td>\n",
       "      <td>1352</td>\n",
       "      <td>1307</td>\n",
       "      <td>30</td>\n",
       "      <td>411</td>\n",
       "      <td>90</td>\n",
       "      <td>25</td>\n",
       "      <td>24</td>\n",
       "      <td>35</td>\n",
       "      <td>29</td>\n",
       "      <td>48</td>\n",
       "      <td>13</td>\n",
       "      <td>224</td>\n",
       "      <td>85</td>\n",
       "      <td>0</td>\n",
       "      <td>0</td>\n",
       "    </tr>\n",
       "    <tr>\n",
       "      <th>...</th>\n",
       "      <td>...</td>\n",
       "      <td>...</td>\n",
       "      <td>...</td>\n",
       "      <td>...</td>\n",
       "      <td>...</td>\n",
       "      <td>...</td>\n",
       "      <td>...</td>\n",
       "      <td>...</td>\n",
       "      <td>...</td>\n",
       "      <td>...</td>\n",
       "      <td>...</td>\n",
       "      <td>...</td>\n",
       "      <td>...</td>\n",
       "      <td>...</td>\n",
       "      <td>...</td>\n",
       "      <td>...</td>\n",
       "    </tr>\n",
       "    <tr>\n",
       "      <th>1833</th>\n",
       "      <td>F</td>\n",
       "      <td>169</td>\n",
       "      <td>75</td>\n",
       "      <td>2</td>\n",
       "      <td>4</td>\n",
       "      <td>7</td>\n",
       "      <td>0</td>\n",
       "      <td>0</td>\n",
       "      <td>5</td>\n",
       "      <td>2</td>\n",
       "      <td>1</td>\n",
       "      <td>4</td>\n",
       "      <td>7</td>\n",
       "      <td>1</td>\n",
       "      <td>14</td>\n",
       "      <td>13</td>\n",
       "    </tr>\n",
       "    <tr>\n",
       "      <th>2847</th>\n",
       "      <td>M</td>\n",
       "      <td>809</td>\n",
       "      <td>770</td>\n",
       "      <td>8</td>\n",
       "      <td>147</td>\n",
       "      <td>29</td>\n",
       "      <td>2</td>\n",
       "      <td>9</td>\n",
       "      <td>6</td>\n",
       "      <td>5</td>\n",
       "      <td>12</td>\n",
       "      <td>3</td>\n",
       "      <td>147</td>\n",
       "      <td>32</td>\n",
       "      <td>291</td>\n",
       "      <td>274</td>\n",
       "    </tr>\n",
       "    <tr>\n",
       "      <th>124</th>\n",
       "      <td>M</td>\n",
       "      <td>178</td>\n",
       "      <td>172</td>\n",
       "      <td>4</td>\n",
       "      <td>45</td>\n",
       "      <td>5</td>\n",
       "      <td>4</td>\n",
       "      <td>3</td>\n",
       "      <td>14</td>\n",
       "      <td>3</td>\n",
       "      <td>1</td>\n",
       "      <td>2</td>\n",
       "      <td>51</td>\n",
       "      <td>9</td>\n",
       "      <td>0</td>\n",
       "      <td>0</td>\n",
       "    </tr>\n",
       "    <tr>\n",
       "      <th>2586</th>\n",
       "      <td>M</td>\n",
       "      <td>1473</td>\n",
       "      <td>1159</td>\n",
       "      <td>12</td>\n",
       "      <td>154</td>\n",
       "      <td>63</td>\n",
       "      <td>0</td>\n",
       "      <td>11</td>\n",
       "      <td>6</td>\n",
       "      <td>23</td>\n",
       "      <td>18</td>\n",
       "      <td>21</td>\n",
       "      <td>200</td>\n",
       "      <td>62</td>\n",
       "      <td>271</td>\n",
       "      <td>257</td>\n",
       "    </tr>\n",
       "    <tr>\n",
       "      <th>3060</th>\n",
       "      <td>F</td>\n",
       "      <td>199</td>\n",
       "      <td>196</td>\n",
       "      <td>3</td>\n",
       "      <td>41</td>\n",
       "      <td>5</td>\n",
       "      <td>10</td>\n",
       "      <td>1</td>\n",
       "      <td>8</td>\n",
       "      <td>3</td>\n",
       "      <td>1</td>\n",
       "      <td>1</td>\n",
       "      <td>39</td>\n",
       "      <td>14</td>\n",
       "      <td>41</td>\n",
       "      <td>37</td>\n",
       "    </tr>\n",
       "  </tbody>\n",
       "</table>\n",
       "<p>2772 rows × 16 columns</p>\n",
       "</div>"
      ],
      "text/plain": [
       "     Sex  AllCause  NaturalCause  SepticeMia (A40-A41)  \\\n",
       "3907   M      2344          2275                    28   \n",
       "3234   M        86            27                     0   \n",
       "3275   F       771           579                     9   \n",
       "3202   M         7             7                     0   \n",
       "1211   F      1352          1307                    30   \n",
       "...   ..       ...           ...                   ...   \n",
       "1833   F       169            75                     2   \n",
       "2847   M       809           770                     8   \n",
       "124    M       178           172                     4   \n",
       "2586   M      1473          1159                    12   \n",
       "3060   F       199           196                     3   \n",
       "\n",
       "      Malignant neoplasms (C00-C97)  Diabetes mellitus (E10-E14)  \\\n",
       "3907                            406                          128   \n",
       "3234                              3                            0   \n",
       "3275                             91                           31   \n",
       "3202                              4                            0   \n",
       "1211                            411                           90   \n",
       "...                             ...                          ...   \n",
       "1833                              4                            7   \n",
       "2847                            147                           29   \n",
       "124                              45                            5   \n",
       "2586                            154                           63   \n",
       "3060                             41                            5   \n",
       "\n",
       "      Alzheimer disease (G30)  Influenza and pneumonia (J09-J18)  \\\n",
       "3907                       23                                 30   \n",
       "3234                        0                                  0   \n",
       "3275                        0                                  3   \n",
       "3202                        0                                  0   \n",
       "1211                       25                                 24   \n",
       "...                       ...                                ...   \n",
       "1833                        0                                  0   \n",
       "2847                        2                                  9   \n",
       "124                         4                                  3   \n",
       "2586                        0                                 11   \n",
       "3060                       10                                  1   \n",
       "\n",
       "      Chronic lower respiratory diseases (J40-J47)  \\\n",
       "3907                                            31   \n",
       "3234                                             1   \n",
       "3275                                             7   \n",
       "3202                                             0   \n",
       "1211                                            35   \n",
       "...                                            ...   \n",
       "1833                                             5   \n",
       "2847                                             6   \n",
       "124                                             14   \n",
       "2586                                             6   \n",
       "3060                                             8   \n",
       "\n",
       "      Other diseases of respiratory system (J00-J06,J30-J39,J67,J70-J98)  \\\n",
       "3907                                                 30                    \n",
       "3234                                                  0                    \n",
       "3275                                                  3                    \n",
       "3202                                                  0                    \n",
       "1211                                                 29                    \n",
       "...                                                 ...                    \n",
       "1833                                                  2                    \n",
       "2847                                                  5                    \n",
       "124                                                   3                    \n",
       "2586                                                 23                    \n",
       "3060                                                  3                    \n",
       "\n",
       "      Nephritis, nephrotic syndrome and nephrosis (N00-N07,N17-N19,N25-N27)  \\\n",
       "3907                                                 44                       \n",
       "3234                                                  1                       \n",
       "3275                                                 15                       \n",
       "3202                                                  0                       \n",
       "1211                                                 48                       \n",
       "...                                                 ...                       \n",
       "1833                                                  1                       \n",
       "2847                                                 12                       \n",
       "124                                                   1                       \n",
       "2586                                                 18                       \n",
       "3060                                                  1                       \n",
       "\n",
       "      Symptoms, signs and abnormal clinical and laboratory findings, not elsewhere classified (R00-R99)  \\\n",
       "3907                                                 85                                                   \n",
       "3234                                                  4                                                   \n",
       "3275                                                 41                                                   \n",
       "3202                                                  0                                                   \n",
       "1211                                                 13                                                   \n",
       "...                                                 ...                                                   \n",
       "1833                                                  4                                                   \n",
       "2847                                                  3                                                   \n",
       "124                                                   2                                                   \n",
       "2586                                                 21                                                   \n",
       "3060                                                  1                                                   \n",
       "\n",
       "      Diseases of heart (I00-I09,I11,I13,I20-I51)  \\\n",
       "3907                                          327   \n",
       "3234                                            6   \n",
       "3275                                          105   \n",
       "3202                                            1   \n",
       "1211                                          224   \n",
       "...                                           ...   \n",
       "1833                                            7   \n",
       "2847                                          147   \n",
       "124                                            51   \n",
       "2586                                          200   \n",
       "3060                                           39   \n",
       "\n",
       "      Cerebrovascular diseases (I60-I69)  \\\n",
       "3907                                  83   \n",
       "3234                                   0   \n",
       "3275                                  31   \n",
       "3202                                   1   \n",
       "1211                                  85   \n",
       "...                                  ...   \n",
       "1833                                   1   \n",
       "2847                                  32   \n",
       "124                                    9   \n",
       "2586                                  62   \n",
       "3060                                  14   \n",
       "\n",
       "      COVID-19 (U071, Multiple Cause of Death)  \\\n",
       "3907                                       750   \n",
       "3234                                         0   \n",
       "3275                                        85   \n",
       "3202                                         1   \n",
       "1211                                         0   \n",
       "...                                        ...   \n",
       "1833                                        14   \n",
       "2847                                       291   \n",
       "124                                          0   \n",
       "2586                                       271   \n",
       "3060                                        41   \n",
       "\n",
       "      COVID-19 (U071, Underlying Cause of Death)  \n",
       "3907                                         723  \n",
       "3234                                           0  \n",
       "3275                                          78  \n",
       "3202                                           0  \n",
       "1211                                           0  \n",
       "...                                          ...  \n",
       "1833                                          13  \n",
       "2847                                         274  \n",
       "124                                            0  \n",
       "2586                                         257  \n",
       "3060                                          37  \n",
       "\n",
       "[2772 rows x 16 columns]"
      ]
     },
     "execution_count": 21,
     "metadata": {},
     "output_type": "execute_result"
    }
   ],
   "source": [
    "train_df"
   ]
  },
  {
   "cell_type": "code",
   "execution_count": 22,
   "id": "90b93ad7",
   "metadata": {},
   "outputs": [],
   "source": [
    "from sklearn.svm import SVC"
   ]
  },
  {
   "cell_type": "code",
   "execution_count": 23,
   "id": "b229dd46",
   "metadata": {},
   "outputs": [],
   "source": [
    "svm = SVC()"
   ]
  },
  {
   "cell_type": "code",
   "execution_count": 24,
   "id": "d967abdb",
   "metadata": {},
   "outputs": [
    {
     "data": {
      "text/html": [
       "<style>#sk-container-id-1 {color: black;background-color: white;}#sk-container-id-1 pre{padding: 0;}#sk-container-id-1 div.sk-toggleable {background-color: white;}#sk-container-id-1 label.sk-toggleable__label {cursor: pointer;display: block;width: 100%;margin-bottom: 0;padding: 0.3em;box-sizing: border-box;text-align: center;}#sk-container-id-1 label.sk-toggleable__label-arrow:before {content: \"▸\";float: left;margin-right: 0.25em;color: #696969;}#sk-container-id-1 label.sk-toggleable__label-arrow:hover:before {color: black;}#sk-container-id-1 div.sk-estimator:hover label.sk-toggleable__label-arrow:before {color: black;}#sk-container-id-1 div.sk-toggleable__content {max-height: 0;max-width: 0;overflow: hidden;text-align: left;background-color: #f0f8ff;}#sk-container-id-1 div.sk-toggleable__content pre {margin: 0.2em;color: black;border-radius: 0.25em;background-color: #f0f8ff;}#sk-container-id-1 input.sk-toggleable__control:checked~div.sk-toggleable__content {max-height: 200px;max-width: 100%;overflow: auto;}#sk-container-id-1 input.sk-toggleable__control:checked~label.sk-toggleable__label-arrow:before {content: \"▾\";}#sk-container-id-1 div.sk-estimator input.sk-toggleable__control:checked~label.sk-toggleable__label {background-color: #d4ebff;}#sk-container-id-1 div.sk-label input.sk-toggleable__control:checked~label.sk-toggleable__label {background-color: #d4ebff;}#sk-container-id-1 input.sk-hidden--visually {border: 0;clip: rect(1px 1px 1px 1px);clip: rect(1px, 1px, 1px, 1px);height: 1px;margin: -1px;overflow: hidden;padding: 0;position: absolute;width: 1px;}#sk-container-id-1 div.sk-estimator {font-family: monospace;background-color: #f0f8ff;border: 1px dotted black;border-radius: 0.25em;box-sizing: border-box;margin-bottom: 0.5em;}#sk-container-id-1 div.sk-estimator:hover {background-color: #d4ebff;}#sk-container-id-1 div.sk-parallel-item::after {content: \"\";width: 100%;border-bottom: 1px solid gray;flex-grow: 1;}#sk-container-id-1 div.sk-label:hover label.sk-toggleable__label {background-color: #d4ebff;}#sk-container-id-1 div.sk-serial::before {content: \"\";position: absolute;border-left: 1px solid gray;box-sizing: border-box;top: 0;bottom: 0;left: 50%;z-index: 0;}#sk-container-id-1 div.sk-serial {display: flex;flex-direction: column;align-items: center;background-color: white;padding-right: 0.2em;padding-left: 0.2em;position: relative;}#sk-container-id-1 div.sk-item {position: relative;z-index: 1;}#sk-container-id-1 div.sk-parallel {display: flex;align-items: stretch;justify-content: center;background-color: white;position: relative;}#sk-container-id-1 div.sk-item::before, #sk-container-id-1 div.sk-parallel-item::before {content: \"\";position: absolute;border-left: 1px solid gray;box-sizing: border-box;top: 0;bottom: 0;left: 50%;z-index: -1;}#sk-container-id-1 div.sk-parallel-item {display: flex;flex-direction: column;z-index: 1;position: relative;background-color: white;}#sk-container-id-1 div.sk-parallel-item:first-child::after {align-self: flex-end;width: 50%;}#sk-container-id-1 div.sk-parallel-item:last-child::after {align-self: flex-start;width: 50%;}#sk-container-id-1 div.sk-parallel-item:only-child::after {width: 0;}#sk-container-id-1 div.sk-dashed-wrapped {border: 1px dashed gray;margin: 0 0.4em 0.5em 0.4em;box-sizing: border-box;padding-bottom: 0.4em;background-color: white;}#sk-container-id-1 div.sk-label label {font-family: monospace;font-weight: bold;display: inline-block;line-height: 1.2em;}#sk-container-id-1 div.sk-label-container {text-align: center;}#sk-container-id-1 div.sk-container {/* jupyter's `normalize.less` sets `[hidden] { display: none; }` but bootstrap.min.css set `[hidden] { display: none !important; }` so we also need the `!important` here to be able to override the default hidden behavior on the sphinx rendered scikit-learn.org. See: https://github.com/scikit-learn/scikit-learn/issues/21755 */display: inline-block !important;position: relative;}#sk-container-id-1 div.sk-text-repr-fallback {display: none;}</style><div id=\"sk-container-id-1\" class=\"sk-top-container\"><div class=\"sk-text-repr-fallback\"><pre>SVC()</pre><b>In a Jupyter environment, please rerun this cell to show the HTML representation or trust the notebook. <br />On GitHub, the HTML representation is unable to render, please try loading this page with nbviewer.org.</b></div><div class=\"sk-container\" hidden><div class=\"sk-item\"><div class=\"sk-estimator sk-toggleable\"><input class=\"sk-toggleable__control sk-hidden--visually\" id=\"sk-estimator-id-1\" type=\"checkbox\" checked><label for=\"sk-estimator-id-1\" class=\"sk-toggleable__label sk-toggleable__label-arrow\">SVC</label><div class=\"sk-toggleable__content\"><pre>SVC()</pre></div></div></div></div></div>"
      ],
      "text/plain": [
       "SVC()"
      ]
     },
     "execution_count": 24,
     "metadata": {},
     "output_type": "execute_result"
    }
   ],
   "source": [
    "svm.fit(X_train,y_train)"
   ]
  },
  {
   "cell_type": "code",
   "execution_count": 25,
   "id": "4cdb909a",
   "metadata": {},
   "outputs": [],
   "source": [
    "svm_pred= svm.predict(X_test)"
   ]
  },
  {
   "cell_type": "code",
   "execution_count": 26,
   "id": "01e7add1",
   "metadata": {},
   "outputs": [],
   "source": [
    "from sklearn.metrics import confusion_matrix "
   ]
  },
  {
   "cell_type": "code",
   "execution_count": 27,
   "id": "d6fbedb7",
   "metadata": {},
   "outputs": [
    {
     "data": {
      "text/plain": [
       "array([[568,  22],\n",
       "       [454, 144]])"
      ]
     },
     "execution_count": 27,
     "metadata": {},
     "output_type": "execute_result"
    }
   ],
   "source": [
    "cm = confusion_matrix(y_test, svm_pred)\n",
    "cm"
   ]
  },
  {
   "cell_type": "code",
   "execution_count": 28,
   "id": "7aec70c6",
   "metadata": {},
   "outputs": [
    {
     "data": {
      "image/png": "[encoded data removed]",
      "text/plain": [
       "<Figure size 1500x800 with 2 Axes>"
      ]
     },
     "metadata": {},
     "output_type": "display_data"
    }
   ],
   "source": [
    "plt.figure(figsize = (15,8))\n",
    "sns.heatmap(cm, annot = True, fmt = 'd', cmap = \"Blues\")\n",
    "plt.xlabel(\"Predicted\")\n",
    "plt.ylabel(\"Actual\")\n",
    "plt.show()"
   ]
  },
  {
   "cell_type": "code",
   "execution_count": 29,
   "id": "6d2d446c",
   "metadata": {},
   "outputs": [],
   "source": [
    "from sklearn.metrics import accuracy_score"
   ]
  },
  {
   "cell_type": "code",
   "execution_count": 30,
   "id": "f91b3c0b",
   "metadata": {},
   "outputs": [
    {
     "data": {
      "text/plain": [
       "0.5993265993265994"
      ]
     },
     "execution_count": 30,
     "metadata": {},
     "output_type": "execute_result"
    }
   ],
   "source": [
    "accuracy_score(y_test, svm_pred)"
   ]
  },
  {
   "cell_type": "code",
   "execution_count": 87,
   "id": "66eabf20",
   "metadata": {},
   "outputs": [],
   "source": [
    "svm = SVC(kernel = 'rbf', C = 50)"
   ]
  },
  {
   "cell_type": "code",
   "execution_count": 88,
   "id": "89adbec8",
   "metadata": {},
   "outputs": [
    {
     "data": {
      "text/html": [
       "<style>#sk-container-id-11 {color: black;background-color: white;}#sk-container-id-11 pre{padding: 0;}#sk-container-id-11 div.sk-toggleable {background-color: white;}#sk-container-id-11 label.sk-toggleable__label {cursor: pointer;display: block;width: 100%;margin-bottom: 0;padding: 0.3em;box-sizing: border-box;text-align: center;}#sk-container-id-11 label.sk-toggleable__label-arrow:before {content: \"▸\";float: left;margin-right: 0.25em;color: #696969;}#sk-container-id-11 label.sk-toggleable__label-arrow:hover:before {color: black;}#sk-container-id-11 div.sk-estimator:hover label.sk-toggleable__label-arrow:before {color: black;}#sk-container-id-11 div.sk-toggleable__content {max-height: 0;max-width: 0;overflow: hidden;text-align: left;background-color: #f0f8ff;}#sk-container-id-11 div.sk-toggleable__content pre {margin: 0.2em;color: black;border-radius: 0.25em;background-color: #f0f8ff;}#sk-container-id-11 input.sk-toggleable__control:checked~div.sk-toggleable__content {max-height: 200px;max-width: 100%;overflow: auto;}#sk-container-id-11 input.sk-toggleable__control:checked~label.sk-toggleable__label-arrow:before {content: \"▾\";}#sk-container-id-11 div.sk-estimator input.sk-toggleable__control:checked~label.sk-toggleable__label {background-color: #d4ebff;}#sk-container-id-11 div.sk-label input.sk-toggleable__control:checked~label.sk-toggleable__label {background-color: #d4ebff;}#sk-container-id-11 input.sk-hidden--visually {border: 0;clip: rect(1px 1px 1px 1px);clip: rect(1px, 1px, 1px, 1px);height: 1px;margin: -1px;overflow: hidden;padding: 0;position: absolute;width: 1px;}#sk-container-id-11 div.sk-estimator {font-family: monospace;background-color: #f0f8ff;border: 1px dotted black;border-radius: 0.25em;box-sizing: border-box;margin-bottom: 0.5em;}#sk-container-id-11 div.sk-estimator:hover {background-color: #d4ebff;}#sk-container-id-11 div.sk-parallel-item::after {content: \"\";width: 100%;border-bottom: 1px solid gray;flex-grow: 1;}#sk-container-id-11 div.sk-label:hover label.sk-toggleable__label {background-color: #d4ebff;}#sk-container-id-11 div.sk-serial::before {content: \"\";position: absolute;border-left: 1px solid gray;box-sizing: border-box;top: 0;bottom: 0;left: 50%;z-index: 0;}#sk-container-id-11 div.sk-serial {display: flex;flex-direction: column;align-items: center;background-color: white;padding-right: 0.2em;padding-left: 0.2em;position: relative;}#sk-container-id-11 div.sk-item {position: relative;z-index: 1;}#sk-container-id-11 div.sk-parallel {display: flex;align-items: stretch;justify-content: center;background-color: white;position: relative;}#sk-container-id-11 div.sk-item::before, #sk-container-id-11 div.sk-parallel-item::before {content: \"\";position: absolute;border-left: 1px solid gray;box-sizing: border-box;top: 0;bottom: 0;left: 50%;z-index: -1;}#sk-container-id-11 div.sk-parallel-item {display: flex;flex-direction: column;z-index: 1;position: relative;background-color: white;}#sk-container-id-11 div.sk-parallel-item:first-child::after {align-self: flex-end;width: 50%;}#sk-container-id-11 div.sk-parallel-item:last-child::after {align-self: flex-start;width: 50%;}#sk-container-id-11 div.sk-parallel-item:only-child::after {width: 0;}#sk-container-id-11 div.sk-dashed-wrapped {border: 1px dashed gray;margin: 0 0.4em 0.5em 0.4em;box-sizing: border-box;padding-bottom: 0.4em;background-color: white;}#sk-container-id-11 div.sk-label label {font-family: monospace;font-weight: bold;display: inline-block;line-height: 1.2em;}#sk-container-id-11 div.sk-label-container {text-align: center;}#sk-container-id-11 div.sk-container {/* jupyter's `normalize.less` sets `[hidden] { display: none; }` but bootstrap.min.css set `[hidden] { display: none !important; }` so we also need the `!important` here to be able to override the default hidden behavior on the sphinx rendered scikit-learn.org. See: https://github.com/scikit-learn/scikit-learn/issues/21755 */display: inline-block !important;position: relative;}#sk-container-id-11 div.sk-text-repr-fallback {display: none;}</style><div id=\"sk-container-id-11\" class=\"sk-top-container\"><div class=\"sk-text-repr-fallback\"><pre>SVC(C=50)</pre><b>In a Jupyter environment, please rerun this cell to show the HTML representation or trust the notebook. <br />On GitHub, the HTML representation is unable to render, please try loading this page with nbviewer.org.</b></div><div class=\"sk-container\" hidden><div class=\"sk-item\"><div class=\"sk-estimator sk-toggleable\"><input class=\"sk-toggleable__control sk-hidden--visually\" id=\"sk-estimator-id-11\" type=\"checkbox\" checked><label for=\"sk-estimator-id-11\" class=\"sk-toggleable__label sk-toggleable__label-arrow\">SVC</label><div class=\"sk-toggleable__content\"><pre>SVC(C=50)</pre></div></div></div></div></div>"
      ],
      "text/plain": [
       "SVC(C=50)"
      ]
     },
     "execution_count": 88,
     "metadata": {},
     "output_type": "execute_result"
    }
   ],
   "source": [
    "svm.fit(X_train,y_train)"
   ]
  },
  {
   "cell_type": "code",
   "execution_count": 89,
   "id": "5a19cff3",
   "metadata": {},
   "outputs": [],
   "source": [
    "svm_pred_3 = svm.predict(X_test)"
   ]
  },
  {
   "cell_type": "code",
   "execution_count": 90,
   "id": "08068f7a",
   "metadata": {},
   "outputs": [
    {
     "data": {
      "text/plain": [
       "array([[546,  44],\n",
       "       [324, 274]])"
      ]
     },
     "execution_count": 90,
     "metadata": {},
     "output_type": "execute_result"
    }
   ],
   "source": [
    "cm = confusion_matrix(y_test, svm_pred_1)\n",
    "cm"
   ]
  },
  {
   "cell_type": "code",
   "execution_count": 91,
   "id": "b2d43f81",
   "metadata": {},
   "outputs": [
    {
     "data": {
      "image/png": "[encoded data removed]",
      "text/plain": [
       "<Figure size 1500x800 with 2 Axes>"
      ]
     },
     "metadata": {},
     "output_type": "display_data"
    }
   ],
   "source": [
    "plt.figure(figsize = (15,8))\n",
    "sns.heatmap(cm, annot = True, fmt = 'd', cmap = \"Blues\")\n",
    "plt.xlabel(\"Predicted Species\")\n",
    "plt.ylabel(\"Actual Species\")\n",
    "plt.show()"
   ]
  },
  {
   "cell_type": "code",
   "execution_count": 92,
   "id": "fa2eefa1",
   "metadata": {},
   "outputs": [
    {
     "data": {
      "text/plain": [
       "0.67003367003367"
      ]
     },
     "execution_count": 92,
     "metadata": {},
     "output_type": "execute_result"
    }
   ],
   "source": [
    "accuracy_score(y_test, svm_pred_3)"
   ]
  },
  {
   "cell_type": "code",
   "execution_count": 31,
   "id": "da144d0d",
   "metadata": {},
   "outputs": [],
   "source": [
    "svm = SVC(kernel = 'rbf', C = 150)"
   ]
  },
  {
   "cell_type": "code",
   "execution_count": 86,
   "id": "84e618b8",
   "metadata": {},
   "outputs": [
    {
     "data": {
      "text/html": [
       "<style>#sk-container-id-10 {color: black;background-color: white;}#sk-container-id-10 pre{padding: 0;}#sk-container-id-10 div.sk-toggleable {background-color: white;}#sk-container-id-10 label.sk-toggleable__label {cursor: pointer;display: block;width: 100%;margin-bottom: 0;padding: 0.3em;box-sizing: border-box;text-align: center;}#sk-container-id-10 label.sk-toggleable__label-arrow:before {content: \"▸\";float: left;margin-right: 0.25em;color: #696969;}#sk-container-id-10 label.sk-toggleable__label-arrow:hover:before {color: black;}#sk-container-id-10 div.sk-estimator:hover label.sk-toggleable__label-arrow:before {color: black;}#sk-container-id-10 div.sk-toggleable__content {max-height: 0;max-width: 0;overflow: hidden;text-align: left;background-color: #f0f8ff;}#sk-container-id-10 div.sk-toggleable__content pre {margin: 0.2em;color: black;border-radius: 0.25em;background-color: #f0f8ff;}#sk-container-id-10 input.sk-toggleable__control:checked~div.sk-toggleable__content {max-height: 200px;max-width: 100%;overflow: auto;}#sk-container-id-10 input.sk-toggleable__control:checked~label.sk-toggleable__label-arrow:before {content: \"▾\";}#sk-container-id-10 div.sk-estimator input.sk-toggleable__control:checked~label.sk-toggleable__label {background-color: #d4ebff;}#sk-container-id-10 div.sk-label input.sk-toggleable__control:checked~label.sk-toggleable__label {background-color: #d4ebff;}#sk-container-id-10 input.sk-hidden--visually {border: 0;clip: rect(1px 1px 1px 1px);clip: rect(1px, 1px, 1px, 1px);height: 1px;margin: -1px;overflow: hidden;padding: 0;position: absolute;width: 1px;}#sk-container-id-10 div.sk-estimator {font-family: monospace;background-color: #f0f8ff;border: 1px dotted black;border-radius: 0.25em;box-sizing: border-box;margin-bottom: 0.5em;}#sk-container-id-10 div.sk-estimator:hover {background-color: #d4ebff;}#sk-container-id-10 div.sk-parallel-item::after {content: \"\";width: 100%;border-bottom: 1px solid gray;flex-grow: 1;}#sk-container-id-10 div.sk-label:hover label.sk-toggleable__label {background-color: #d4ebff;}#sk-container-id-10 div.sk-serial::before {content: \"\";position: absolute;border-left: 1px solid gray;box-sizing: border-box;top: 0;bottom: 0;left: 50%;z-index: 0;}#sk-container-id-10 div.sk-serial {display: flex;flex-direction: column;align-items: center;background-color: white;padding-right: 0.2em;padding-left: 0.2em;position: relative;}#sk-container-id-10 div.sk-item {position: relative;z-index: 1;}#sk-container-id-10 div.sk-parallel {display: flex;align-items: stretch;justify-content: center;background-color: white;position: relative;}#sk-container-id-10 div.sk-item::before, #sk-container-id-10 div.sk-parallel-item::before {content: \"\";position: absolute;border-left: 1px solid gray;box-sizing: border-box;top: 0;bottom: 0;left: 50%;z-index: -1;}#sk-container-id-10 div.sk-parallel-item {display: flex;flex-direction: column;z-index: 1;position: relative;background-color: white;}#sk-container-id-10 div.sk-parallel-item:first-child::after {align-self: flex-end;width: 50%;}#sk-container-id-10 div.sk-parallel-item:last-child::after {align-self: flex-start;width: 50%;}#sk-container-id-10 div.sk-parallel-item:only-child::after {width: 0;}#sk-container-id-10 div.sk-dashed-wrapped {border: 1px dashed gray;margin: 0 0.4em 0.5em 0.4em;box-sizing: border-box;padding-bottom: 0.4em;background-color: white;}#sk-container-id-10 div.sk-label label {font-family: monospace;font-weight: bold;display: inline-block;line-height: 1.2em;}#sk-container-id-10 div.sk-label-container {text-align: center;}#sk-container-id-10 div.sk-container {/* jupyter's `normalize.less` sets `[hidden] { display: none; }` but bootstrap.min.css set `[hidden] { display: none !important; }` so we also need the `!important` here to be able to override the default hidden behavior on the sphinx rendered scikit-learn.org. See: https://github.com/scikit-learn/scikit-learn/issues/21755 */display: inline-block !important;position: relative;}#sk-container-id-10 div.sk-text-repr-fallback {display: none;}</style><div id=\"sk-container-id-10\" class=\"sk-top-container\"><div class=\"sk-text-repr-fallback\"><pre>SVC(C=200)</pre><b>In a Jupyter environment, please rerun this cell to show the HTML representation or trust the notebook. <br />On GitHub, the HTML representation is unable to render, please try loading this page with nbviewer.org.</b></div><div class=\"sk-container\" hidden><div class=\"sk-item\"><div class=\"sk-estimator sk-toggleable\"><input class=\"sk-toggleable__control sk-hidden--visually\" id=\"sk-estimator-id-10\" type=\"checkbox\" checked><label for=\"sk-estimator-id-10\" class=\"sk-toggleable__label sk-toggleable__label-arrow\">SVC</label><div class=\"sk-toggleable__content\"><pre>SVC(C=200)</pre></div></div></div></div></div>"
      ],
      "text/plain": [
       "SVC(C=200)"
      ]
     },
     "execution_count": 86,
     "metadata": {},
     "output_type": "execute_result"
    }
   ],
   "source": [
    "svm.fit(X_train,y_train)"
   ]
  },
  {
   "cell_type": "code",
   "execution_count": 33,
   "id": "37865bf3",
   "metadata": {},
   "outputs": [],
   "source": [
    "svm_pred_1 = svm.predict(X_test)"
   ]
  },
  {
   "cell_type": "code",
   "execution_count": 34,
   "id": "36817c75",
   "metadata": {},
   "outputs": [
    {
     "data": {
      "text/plain": [
       "array([[546,  44],\n",
       "       [324, 274]])"
      ]
     },
     "execution_count": 34,
     "metadata": {},
     "output_type": "execute_result"
    }
   ],
   "source": [
    "cm = confusion_matrix(y_test, svm_pred_1)\n",
    "cm"
   ]
  },
  {
   "cell_type": "code",
   "execution_count": 35,
   "id": "225cf8e1",
   "metadata": {},
   "outputs": [
    {
     "data": {
      "image/png": "[encoded data removed]",
      "text/plain": [
       "<Figure size 1500x800 with 2 Axes>"
      ]
     },
     "metadata": {},
     "output_type": "display_data"
    }
   ],
   "source": [
    "plt.figure(figsize = (15,8))\n",
    "sns.heatmap(cm, annot = True, fmt = 'd', cmap = \"Blues\")\n",
    "plt.xlabel(\"Predicted Species\")\n",
    "plt.ylabel(\"Actual Species\")\n",
    "plt.show()"
   ]
  },
  {
   "cell_type": "code",
   "execution_count": 36,
   "id": "9e2b61b3",
   "metadata": {},
   "outputs": [
    {
     "data": {
      "text/plain": [
       "0.6902356902356902"
      ]
     },
     "execution_count": 36,
     "metadata": {},
     "output_type": "execute_result"
    }
   ],
   "source": [
    "accuracy_score(y_test, svm_pred_1)"
   ]
  },
  {
   "cell_type": "code",
   "execution_count": 105,
   "id": "d59b7190",
   "metadata": {},
   "outputs": [],
   "source": [
    "svm = SVC(kernel = 'rbf', C = 400)"
   ]
  },
  {
   "cell_type": "code",
   "execution_count": 106,
   "id": "b5dec86d",
   "metadata": {},
   "outputs": [
    {
     "data": {
      "text/html": [
       "<style>#sk-container-id-14 {color: black;background-color: white;}#sk-container-id-14 pre{padding: 0;}#sk-container-id-14 div.sk-toggleable {background-color: white;}#sk-container-id-14 label.sk-toggleable__label {cursor: pointer;display: block;width: 100%;margin-bottom: 0;padding: 0.3em;box-sizing: border-box;text-align: center;}#sk-container-id-14 label.sk-toggleable__label-arrow:before {content: \"▸\";float: left;margin-right: 0.25em;color: #696969;}#sk-container-id-14 label.sk-toggleable__label-arrow:hover:before {color: black;}#sk-container-id-14 div.sk-estimator:hover label.sk-toggleable__label-arrow:before {color: black;}#sk-container-id-14 div.sk-toggleable__content {max-height: 0;max-width: 0;overflow: hidden;text-align: left;background-color: #f0f8ff;}#sk-container-id-14 div.sk-toggleable__content pre {margin: 0.2em;color: black;border-radius: 0.25em;background-color: #f0f8ff;}#sk-container-id-14 input.sk-toggleable__control:checked~div.sk-toggleable__content {max-height: 200px;max-width: 100%;overflow: auto;}#sk-container-id-14 input.sk-toggleable__control:checked~label.sk-toggleable__label-arrow:before {content: \"▾\";}#sk-container-id-14 div.sk-estimator input.sk-toggleable__control:checked~label.sk-toggleable__label {background-color: #d4ebff;}#sk-container-id-14 div.sk-label input.sk-toggleable__control:checked~label.sk-toggleable__label {background-color: #d4ebff;}#sk-container-id-14 input.sk-hidden--visually {border: 0;clip: rect(1px 1px 1px 1px);clip: rect(1px, 1px, 1px, 1px);height: 1px;margin: -1px;overflow: hidden;padding: 0;position: absolute;width: 1px;}#sk-container-id-14 div.sk-estimator {font-family: monospace;background-color: #f0f8ff;border: 1px dotted black;border-radius: 0.25em;box-sizing: border-box;margin-bottom: 0.5em;}#sk-container-id-14 div.sk-estimator:hover {background-color: #d4ebff;}#sk-container-id-14 div.sk-parallel-item::after {content: \"\";width: 100%;border-bottom: 1px solid gray;flex-grow: 1;}#sk-container-id-14 div.sk-label:hover label.sk-toggleable__label {background-color: #d4ebff;}#sk-container-id-14 div.sk-serial::before {content: \"\";position: absolute;border-left: 1px solid gray;box-sizing: border-box;top: 0;bottom: 0;left: 50%;z-index: 0;}#sk-container-id-14 div.sk-serial {display: flex;flex-direction: column;align-items: center;background-color: white;padding-right: 0.2em;padding-left: 0.2em;position: relative;}#sk-container-id-14 div.sk-item {position: relative;z-index: 1;}#sk-container-id-14 div.sk-parallel {display: flex;align-items: stretch;justify-content: center;background-color: white;position: relative;}#sk-container-id-14 div.sk-item::before, #sk-container-id-14 div.sk-parallel-item::before {content: \"\";position: absolute;border-left: 1px solid gray;box-sizing: border-box;top: 0;bottom: 0;left: 50%;z-index: -1;}#sk-container-id-14 div.sk-parallel-item {display: flex;flex-direction: column;z-index: 1;position: relative;background-color: white;}#sk-container-id-14 div.sk-parallel-item:first-child::after {align-self: flex-end;width: 50%;}#sk-container-id-14 div.sk-parallel-item:last-child::after {align-self: flex-start;width: 50%;}#sk-container-id-14 div.sk-parallel-item:only-child::after {width: 0;}#sk-container-id-14 div.sk-dashed-wrapped {border: 1px dashed gray;margin: 0 0.4em 0.5em 0.4em;box-sizing: border-box;padding-bottom: 0.4em;background-color: white;}#sk-container-id-14 div.sk-label label {font-family: monospace;font-weight: bold;display: inline-block;line-height: 1.2em;}#sk-container-id-14 div.sk-label-container {text-align: center;}#sk-container-id-14 div.sk-container {/* jupyter's `normalize.less` sets `[hidden] { display: none; }` but bootstrap.min.css set `[hidden] { display: none !important; }` so we also need the `!important` here to be able to override the default hidden behavior on the sphinx rendered scikit-learn.org. See: https://github.com/scikit-learn/scikit-learn/issues/21755 */display: inline-block !important;position: relative;}#sk-container-id-14 div.sk-text-repr-fallback {display: none;}</style><div id=\"sk-container-id-14\" class=\"sk-top-container\"><div class=\"sk-text-repr-fallback\"><pre>SVC(C=400)</pre><b>In a Jupyter environment, please rerun this cell to show the HTML representation or trust the notebook. <br />On GitHub, the HTML representation is unable to render, please try loading this page with nbviewer.org.</b></div><div class=\"sk-container\" hidden><div class=\"sk-item\"><div class=\"sk-estimator sk-toggleable\"><input class=\"sk-toggleable__control sk-hidden--visually\" id=\"sk-estimator-id-14\" type=\"checkbox\" checked><label for=\"sk-estimator-id-14\" class=\"sk-toggleable__label sk-toggleable__label-arrow\">SVC</label><div class=\"sk-toggleable__content\"><pre>SVC(C=400)</pre></div></div></div></div></div>"
      ],
      "text/plain": [
       "SVC(C=400)"
      ]
     },
     "execution_count": 106,
     "metadata": {},
     "output_type": "execute_result"
    }
   ],
   "source": [
    "svm.fit(X_train,y_train)"
   ]
  },
  {
   "cell_type": "code",
   "execution_count": 107,
   "id": "7b2d5e7e",
   "metadata": {},
   "outputs": [],
   "source": [
    "svm_pred_2 = svm.predict(X_test)"
   ]
  },
  {
   "cell_type": "code",
   "execution_count": 108,
   "id": "e643fcfc",
   "metadata": {},
   "outputs": [
    {
     "data": {
      "text/plain": [
       "array([[544,  46],\n",
       "       [304, 294]])"
      ]
     },
     "execution_count": 108,
     "metadata": {},
     "output_type": "execute_result"
    }
   ],
   "source": [
    "cm = confusion_matrix(y_test, svm_pred_2)\n",
    "cm"
   ]
  },
  {
   "cell_type": "code",
   "execution_count": 109,
   "id": "887ac72b",
   "metadata": {},
   "outputs": [
    {
     "data": {
      "image/png": "[encoded data removed]",
      "text/plain": [
       "<Figure size 1500x800 with 2 Axes>"
      ]
     },
     "metadata": {},
     "output_type": "display_data"
    }
   ],
   "source": [
    "plt.figure(figsize = (15,8))\n",
    "sns.heatmap(cm, annot = True, fmt = 'd', cmap = \"Blues\")\n",
    "plt.xlabel(\"Predicted Species\")\n",
    "plt.ylabel(\"Actual Species\")\n",
    "plt.show()"
   ]
  },
  {
   "cell_type": "code",
   "execution_count": 110,
   "id": "bf827d3c",
   "metadata": {},
   "outputs": [
    {
     "data": {
      "text/plain": [
       "0.7053872053872053"
      ]
     },
     "execution_count": 110,
     "metadata": {},
     "output_type": "execute_result"
    }
   ],
   "source": [
    "accuracy_score(y_test, svm_pred_2)"
   ]
  },
  {
   "cell_type": "code",
   "execution_count": 43,
   "id": "8a661f41",
   "metadata": {},
   "outputs": [],
   "source": [
    "#Polynomial Kernel"
   ]
  },
  {
   "cell_type": "code",
   "execution_count": 44,
   "id": "c454626a",
   "metadata": {},
   "outputs": [],
   "source": [
    "svm_poly = SVC(kernel = 'poly')"
   ]
  },
  {
   "cell_type": "code",
   "execution_count": 45,
   "id": "d984eea3",
   "metadata": {},
   "outputs": [
    {
     "data": {
      "text/html": [
       "<style>#sk-container-id-4 {color: black;background-color: white;}#sk-container-id-4 pre{padding: 0;}#sk-container-id-4 div.sk-toggleable {background-color: white;}#sk-container-id-4 label.sk-toggleable__label {cursor: pointer;display: block;width: 100%;margin-bottom: 0;padding: 0.3em;box-sizing: border-box;text-align: center;}#sk-container-id-4 label.sk-toggleable__label-arrow:before {content: \"▸\";float: left;margin-right: 0.25em;color: #696969;}#sk-container-id-4 label.sk-toggleable__label-arrow:hover:before {color: black;}#sk-container-id-4 div.sk-estimator:hover label.sk-toggleable__label-arrow:before {color: black;}#sk-container-id-4 div.sk-toggleable__content {max-height: 0;max-width: 0;overflow: hidden;text-align: left;background-color: #f0f8ff;}#sk-container-id-4 div.sk-toggleable__content pre {margin: 0.2em;color: black;border-radius: 0.25em;background-color: #f0f8ff;}#sk-container-id-4 input.sk-toggleable__control:checked~div.sk-toggleable__content {max-height: 200px;max-width: 100%;overflow: auto;}#sk-container-id-4 input.sk-toggleable__control:checked~label.sk-toggleable__label-arrow:before {content: \"▾\";}#sk-container-id-4 div.sk-estimator input.sk-toggleable__control:checked~label.sk-toggleable__label {background-color: #d4ebff;}#sk-container-id-4 div.sk-label input.sk-toggleable__control:checked~label.sk-toggleable__label {background-color: #d4ebff;}#sk-container-id-4 input.sk-hidden--visually {border: 0;clip: rect(1px 1px 1px 1px);clip: rect(1px, 1px, 1px, 1px);height: 1px;margin: -1px;overflow: hidden;padding: 0;position: absolute;width: 1px;}#sk-container-id-4 div.sk-estimator {font-family: monospace;background-color: #f0f8ff;border: 1px dotted black;border-radius: 0.25em;box-sizing: border-box;margin-bottom: 0.5em;}#sk-container-id-4 div.sk-estimator:hover {background-color: #d4ebff;}#sk-container-id-4 div.sk-parallel-item::after {content: \"\";width: 100%;border-bottom: 1px solid gray;flex-grow: 1;}#sk-container-id-4 div.sk-label:hover label.sk-toggleable__label {background-color: #d4ebff;}#sk-container-id-4 div.sk-serial::before {content: \"\";position: absolute;border-left: 1px solid gray;box-sizing: border-box;top: 0;bottom: 0;left: 50%;z-index: 0;}#sk-container-id-4 div.sk-serial {display: flex;flex-direction: column;align-items: center;background-color: white;padding-right: 0.2em;padding-left: 0.2em;position: relative;}#sk-container-id-4 div.sk-item {position: relative;z-index: 1;}#sk-container-id-4 div.sk-parallel {display: flex;align-items: stretch;justify-content: center;background-color: white;position: relative;}#sk-container-id-4 div.sk-item::before, #sk-container-id-4 div.sk-parallel-item::before {content: \"\";position: absolute;border-left: 1px solid gray;box-sizing: border-box;top: 0;bottom: 0;left: 50%;z-index: -1;}#sk-container-id-4 div.sk-parallel-item {display: flex;flex-direction: column;z-index: 1;position: relative;background-color: white;}#sk-container-id-4 div.sk-parallel-item:first-child::after {align-self: flex-end;width: 50%;}#sk-container-id-4 div.sk-parallel-item:last-child::after {align-self: flex-start;width: 50%;}#sk-container-id-4 div.sk-parallel-item:only-child::after {width: 0;}#sk-container-id-4 div.sk-dashed-wrapped {border: 1px dashed gray;margin: 0 0.4em 0.5em 0.4em;box-sizing: border-box;padding-bottom: 0.4em;background-color: white;}#sk-container-id-4 div.sk-label label {font-family: monospace;font-weight: bold;display: inline-block;line-height: 1.2em;}#sk-container-id-4 div.sk-label-container {text-align: center;}#sk-container-id-4 div.sk-container {/* jupyter's `normalize.less` sets `[hidden] { display: none; }` but bootstrap.min.css set `[hidden] { display: none !important; }` so we also need the `!important` here to be able to override the default hidden behavior on the sphinx rendered scikit-learn.org. See: https://github.com/scikit-learn/scikit-learn/issues/21755 */display: inline-block !important;position: relative;}#sk-container-id-4 div.sk-text-repr-fallback {display: none;}</style><div id=\"sk-container-id-4\" class=\"sk-top-container\"><div class=\"sk-text-repr-fallback\"><pre>SVC(kernel=&#x27;poly&#x27;)</pre><b>In a Jupyter environment, please rerun this cell to show the HTML representation or trust the notebook. <br />On GitHub, the HTML representation is unable to render, please try loading this page with nbviewer.org.</b></div><div class=\"sk-container\" hidden><div class=\"sk-item\"><div class=\"sk-estimator sk-toggleable\"><input class=\"sk-toggleable__control sk-hidden--visually\" id=\"sk-estimator-id-4\" type=\"checkbox\" checked><label for=\"sk-estimator-id-4\" class=\"sk-toggleable__label sk-toggleable__label-arrow\">SVC</label><div class=\"sk-toggleable__content\"><pre>SVC(kernel=&#x27;poly&#x27;)</pre></div></div></div></div></div>"
      ],
      "text/plain": [
       "SVC(kernel='poly')"
      ]
     },
     "execution_count": 45,
     "metadata": {},
     "output_type": "execute_result"
    }
   ],
   "source": [
    "svm_poly.fit(X_train,y_train)"
   ]
  },
  {
   "cell_type": "code",
   "execution_count": 46,
   "id": "54722675",
   "metadata": {},
   "outputs": [],
   "source": [
    "svm_poly_pred = svm.predict(X_test)"
   ]
  },
  {
   "cell_type": "code",
   "execution_count": 47,
   "id": "bf62e9d8",
   "metadata": {},
   "outputs": [
    {
     "data": {
      "text/plain": [
       "array([[546,  44],\n",
       "       [317, 281]])"
      ]
     },
     "execution_count": 47,
     "metadata": {},
     "output_type": "execute_result"
    }
   ],
   "source": [
    "cm = confusion_matrix(y_test, svm_poly_pred)\n",
    "cm"
   ]
  },
  {
   "cell_type": "code",
   "execution_count": 48,
   "id": "2db3f082",
   "metadata": {},
   "outputs": [
    {
     "data": {
      "image/png": "[encoded data removed]",
      "text/plain": [
       "<Figure size 1500x800 with 2 Axes>"
      ]
     },
     "metadata": {},
     "output_type": "display_data"
    }
   ],
   "source": [
    "plt.figure(figsize = (15,8))\n",
    "sns.heatmap(cm, annot = True, fmt = 'd', cmap = \"Blues\")\n",
    "plt.xlabel(\"Predicted Species\")\n",
    "plt.ylabel(\"Actual Species\")\n",
    "plt.show()"
   ]
  },
  {
   "cell_type": "code",
   "execution_count": 49,
   "id": "67f257d5",
   "metadata": {},
   "outputs": [
    {
     "data": {
      "text/plain": [
       "0.6961279461279462"
      ]
     },
     "execution_count": 49,
     "metadata": {},
     "output_type": "execute_result"
    }
   ],
   "source": [
    "accuracy_score(y_test, svm_poly_pred)"
   ]
  },
  {
   "cell_type": "code",
   "execution_count": 50,
   "id": "1b7d84d7",
   "metadata": {},
   "outputs": [],
   "source": [
    "svm_poly = SVC(kernel = 'poly', C = 125)"
   ]
  },
  {
   "cell_type": "code",
   "execution_count": 51,
   "id": "bdc6dfb1",
   "metadata": {},
   "outputs": [
    {
     "data": {
      "text/html": [
       "<style>#sk-container-id-5 {color: black;background-color: white;}#sk-container-id-5 pre{padding: 0;}#sk-container-id-5 div.sk-toggleable {background-color: white;}#sk-container-id-5 label.sk-toggleable__label {cursor: pointer;display: block;width: 100%;margin-bottom: 0;padding: 0.3em;box-sizing: border-box;text-align: center;}#sk-container-id-5 label.sk-toggleable__label-arrow:before {content: \"▸\";float: left;margin-right: 0.25em;color: #696969;}#sk-container-id-5 label.sk-toggleable__label-arrow:hover:before {color: black;}#sk-container-id-5 div.sk-estimator:hover label.sk-toggleable__label-arrow:before {color: black;}#sk-container-id-5 div.sk-toggleable__content {max-height: 0;max-width: 0;overflow: hidden;text-align: left;background-color: #f0f8ff;}#sk-container-id-5 div.sk-toggleable__content pre {margin: 0.2em;color: black;border-radius: 0.25em;background-color: #f0f8ff;}#sk-container-id-5 input.sk-toggleable__control:checked~div.sk-toggleable__content {max-height: 200px;max-width: 100%;overflow: auto;}#sk-container-id-5 input.sk-toggleable__control:checked~label.sk-toggleable__label-arrow:before {content: \"▾\";}#sk-container-id-5 div.sk-estimator input.sk-toggleable__control:checked~label.sk-toggleable__label {background-color: #d4ebff;}#sk-container-id-5 div.sk-label input.sk-toggleable__control:checked~label.sk-toggleable__label {background-color: #d4ebff;}#sk-container-id-5 input.sk-hidden--visually {border: 0;clip: rect(1px 1px 1px 1px);clip: rect(1px, 1px, 1px, 1px);height: 1px;margin: -1px;overflow: hidden;padding: 0;position: absolute;width: 1px;}#sk-container-id-5 div.sk-estimator {font-family: monospace;background-color: #f0f8ff;border: 1px dotted black;border-radius: 0.25em;box-sizing: border-box;margin-bottom: 0.5em;}#sk-container-id-5 div.sk-estimator:hover {background-color: #d4ebff;}#sk-container-id-5 div.sk-parallel-item::after {content: \"\";width: 100%;border-bottom: 1px solid gray;flex-grow: 1;}#sk-container-id-5 div.sk-label:hover label.sk-toggleable__label {background-color: #d4ebff;}#sk-container-id-5 div.sk-serial::before {content: \"\";position: absolute;border-left: 1px solid gray;box-sizing: border-box;top: 0;bottom: 0;left: 50%;z-index: 0;}#sk-container-id-5 div.sk-serial {display: flex;flex-direction: column;align-items: center;background-color: white;padding-right: 0.2em;padding-left: 0.2em;position: relative;}#sk-container-id-5 div.sk-item {position: relative;z-index: 1;}#sk-container-id-5 div.sk-parallel {display: flex;align-items: stretch;justify-content: center;background-color: white;position: relative;}#sk-container-id-5 div.sk-item::before, #sk-container-id-5 div.sk-parallel-item::before {content: \"\";position: absolute;border-left: 1px solid gray;box-sizing: border-box;top: 0;bottom: 0;left: 50%;z-index: -1;}#sk-container-id-5 div.sk-parallel-item {display: flex;flex-direction: column;z-index: 1;position: relative;background-color: white;}#sk-container-id-5 div.sk-parallel-item:first-child::after {align-self: flex-end;width: 50%;}#sk-container-id-5 div.sk-parallel-item:last-child::after {align-self: flex-start;width: 50%;}#sk-container-id-5 div.sk-parallel-item:only-child::after {width: 0;}#sk-container-id-5 div.sk-dashed-wrapped {border: 1px dashed gray;margin: 0 0.4em 0.5em 0.4em;box-sizing: border-box;padding-bottom: 0.4em;background-color: white;}#sk-container-id-5 div.sk-label label {font-family: monospace;font-weight: bold;display: inline-block;line-height: 1.2em;}#sk-container-id-5 div.sk-label-container {text-align: center;}#sk-container-id-5 div.sk-container {/* jupyter's `normalize.less` sets `[hidden] { display: none; }` but bootstrap.min.css set `[hidden] { display: none !important; }` so we also need the `!important` here to be able to override the default hidden behavior on the sphinx rendered scikit-learn.org. See: https://github.com/scikit-learn/scikit-learn/issues/21755 */display: inline-block !important;position: relative;}#sk-container-id-5 div.sk-text-repr-fallback {display: none;}</style><div id=\"sk-container-id-5\" class=\"sk-top-container\"><div class=\"sk-text-repr-fallback\"><pre>SVC(C=125, kernel=&#x27;poly&#x27;)</pre><b>In a Jupyter environment, please rerun this cell to show the HTML representation or trust the notebook. <br />On GitHub, the HTML representation is unable to render, please try loading this page with nbviewer.org.</b></div><div class=\"sk-container\" hidden><div class=\"sk-item\"><div class=\"sk-estimator sk-toggleable\"><input class=\"sk-toggleable__control sk-hidden--visually\" id=\"sk-estimator-id-5\" type=\"checkbox\" checked><label for=\"sk-estimator-id-5\" class=\"sk-toggleable__label sk-toggleable__label-arrow\">SVC</label><div class=\"sk-toggleable__content\"><pre>SVC(C=125, kernel=&#x27;poly&#x27;)</pre></div></div></div></div></div>"
      ],
      "text/plain": [
       "SVC(C=125, kernel='poly')"
      ]
     },
     "execution_count": 51,
     "metadata": {},
     "output_type": "execute_result"
    }
   ],
   "source": [
    "svm_poly.fit(X_train,y_train)"
   ]
  },
  {
   "cell_type": "code",
   "execution_count": 52,
   "id": "a2ec0f71",
   "metadata": {},
   "outputs": [],
   "source": [
    "svm_poly_pred_1 = svm_poly.predict(X_test)"
   ]
  },
  {
   "cell_type": "code",
   "execution_count": 53,
   "id": "e886376b",
   "metadata": {},
   "outputs": [
    {
     "data": {
      "text/plain": [
       "array([[588,   2],\n",
       "       [496, 102]])"
      ]
     },
     "execution_count": 53,
     "metadata": {},
     "output_type": "execute_result"
    }
   ],
   "source": [
    "cm = confusion_matrix(y_test, svm_poly_pred_1)\n",
    "cm"
   ]
  },
  {
   "cell_type": "code",
   "execution_count": 54,
   "id": "30155b34",
   "metadata": {},
   "outputs": [
    {
     "data": {
      "image/png": "[encoded data removed]",
      "text/plain": [
       "<Figure size 1500x800 with 2 Axes>"
      ]
     },
     "metadata": {},
     "output_type": "display_data"
    }
   ],
   "source": [
    "plt.figure(figsize = (15,8))\n",
    "sns.heatmap(cm, annot = True, fmt = 'd', cmap = \"Blues\")\n",
    "plt.xlabel(\"Predicted Species\")\n",
    "plt.ylabel(\"Actual Species\")\n",
    "plt.show()"
   ]
  },
  {
   "cell_type": "code",
   "execution_count": 55,
   "id": "91f71791",
   "metadata": {},
   "outputs": [
    {
     "data": {
      "text/plain": [
       "0.5808080808080808"
      ]
     },
     "execution_count": 55,
     "metadata": {},
     "output_type": "execute_result"
    }
   ],
   "source": [
    "accuracy_score(y_test, svm_poly_pred_1)"
   ]
  },
  {
   "cell_type": "code",
   "execution_count": 93,
   "id": "ea71a6b4",
   "metadata": {},
   "outputs": [],
   "source": [
    "svm_poly = SVC(kernel = 'poly', C = 450)"
   ]
  },
  {
   "cell_type": "code",
   "execution_count": 94,
   "id": "e654008b",
   "metadata": {},
   "outputs": [
    {
     "data": {
      "text/html": [
       "<style>#sk-container-id-12 {color: black;background-color: white;}#sk-container-id-12 pre{padding: 0;}#sk-container-id-12 div.sk-toggleable {background-color: white;}#sk-container-id-12 label.sk-toggleable__label {cursor: pointer;display: block;width: 100%;margin-bottom: 0;padding: 0.3em;box-sizing: border-box;text-align: center;}#sk-container-id-12 label.sk-toggleable__label-arrow:before {content: \"▸\";float: left;margin-right: 0.25em;color: #696969;}#sk-container-id-12 label.sk-toggleable__label-arrow:hover:before {color: black;}#sk-container-id-12 div.sk-estimator:hover label.sk-toggleable__label-arrow:before {color: black;}#sk-container-id-12 div.sk-toggleable__content {max-height: 0;max-width: 0;overflow: hidden;text-align: left;background-color: #f0f8ff;}#sk-container-id-12 div.sk-toggleable__content pre {margin: 0.2em;color: black;border-radius: 0.25em;background-color: #f0f8ff;}#sk-container-id-12 input.sk-toggleable__control:checked~div.sk-toggleable__content {max-height: 200px;max-width: 100%;overflow: auto;}#sk-container-id-12 input.sk-toggleable__control:checked~label.sk-toggleable__label-arrow:before {content: \"▾\";}#sk-container-id-12 div.sk-estimator input.sk-toggleable__control:checked~label.sk-toggleable__label {background-color: #d4ebff;}#sk-container-id-12 div.sk-label input.sk-toggleable__control:checked~label.sk-toggleable__label {background-color: #d4ebff;}#sk-container-id-12 input.sk-hidden--visually {border: 0;clip: rect(1px 1px 1px 1px);clip: rect(1px, 1px, 1px, 1px);height: 1px;margin: -1px;overflow: hidden;padding: 0;position: absolute;width: 1px;}#sk-container-id-12 div.sk-estimator {font-family: monospace;background-color: #f0f8ff;border: 1px dotted black;border-radius: 0.25em;box-sizing: border-box;margin-bottom: 0.5em;}#sk-container-id-12 div.sk-estimator:hover {background-color: #d4ebff;}#sk-container-id-12 div.sk-parallel-item::after {content: \"\";width: 100%;border-bottom: 1px solid gray;flex-grow: 1;}#sk-container-id-12 div.sk-label:hover label.sk-toggleable__label {background-color: #d4ebff;}#sk-container-id-12 div.sk-serial::before {content: \"\";position: absolute;border-left: 1px solid gray;box-sizing: border-box;top: 0;bottom: 0;left: 50%;z-index: 0;}#sk-container-id-12 div.sk-serial {display: flex;flex-direction: column;align-items: center;background-color: white;padding-right: 0.2em;padding-left: 0.2em;position: relative;}#sk-container-id-12 div.sk-item {position: relative;z-index: 1;}#sk-container-id-12 div.sk-parallel {display: flex;align-items: stretch;justify-content: center;background-color: white;position: relative;}#sk-container-id-12 div.sk-item::before, #sk-container-id-12 div.sk-parallel-item::before {content: \"\";position: absolute;border-left: 1px solid gray;box-sizing: border-box;top: 0;bottom: 0;left: 50%;z-index: -1;}#sk-container-id-12 div.sk-parallel-item {display: flex;flex-direction: column;z-index: 1;position: relative;background-color: white;}#sk-container-id-12 div.sk-parallel-item:first-child::after {align-self: flex-end;width: 50%;}#sk-container-id-12 div.sk-parallel-item:last-child::after {align-self: flex-start;width: 50%;}#sk-container-id-12 div.sk-parallel-item:only-child::after {width: 0;}#sk-container-id-12 div.sk-dashed-wrapped {border: 1px dashed gray;margin: 0 0.4em 0.5em 0.4em;box-sizing: border-box;padding-bottom: 0.4em;background-color: white;}#sk-container-id-12 div.sk-label label {font-family: monospace;font-weight: bold;display: inline-block;line-height: 1.2em;}#sk-container-id-12 div.sk-label-container {text-align: center;}#sk-container-id-12 div.sk-container {/* jupyter's `normalize.less` sets `[hidden] { display: none; }` but bootstrap.min.css set `[hidden] { display: none !important; }` so we also need the `!important` here to be able to override the default hidden behavior on the sphinx rendered scikit-learn.org. See: https://github.com/scikit-learn/scikit-learn/issues/21755 */display: inline-block !important;position: relative;}#sk-container-id-12 div.sk-text-repr-fallback {display: none;}</style><div id=\"sk-container-id-12\" class=\"sk-top-container\"><div class=\"sk-text-repr-fallback\"><pre>SVC(C=450, kernel=&#x27;poly&#x27;)</pre><b>In a Jupyter environment, please rerun this cell to show the HTML representation or trust the notebook. <br />On GitHub, the HTML representation is unable to render, please try loading this page with nbviewer.org.</b></div><div class=\"sk-container\" hidden><div class=\"sk-item\"><div class=\"sk-estimator sk-toggleable\"><input class=\"sk-toggleable__control sk-hidden--visually\" id=\"sk-estimator-id-12\" type=\"checkbox\" checked><label for=\"sk-estimator-id-12\" class=\"sk-toggleable__label sk-toggleable__label-arrow\">SVC</label><div class=\"sk-toggleable__content\"><pre>SVC(C=450, kernel=&#x27;poly&#x27;)</pre></div></div></div></div></div>"
      ],
      "text/plain": [
       "SVC(C=450, kernel='poly')"
      ]
     },
     "execution_count": 94,
     "metadata": {},
     "output_type": "execute_result"
    }
   ],
   "source": [
    "svm_poly.fit(X_train,y_train)"
   ]
  },
  {
   "cell_type": "code",
   "execution_count": 95,
   "id": "513eaa9c",
   "metadata": {},
   "outputs": [],
   "source": [
    "svm_poly_pred_3 = svm_poly.predict(X_test)"
   ]
  },
  {
   "cell_type": "code",
   "execution_count": 96,
   "id": "234757b1",
   "metadata": {},
   "outputs": [
    {
     "data": {
      "text/plain": [
       "array([[588,   2],\n",
       "       [484, 114]])"
      ]
     },
     "execution_count": 96,
     "metadata": {},
     "output_type": "execute_result"
    }
   ],
   "source": [
    "cm = confusion_matrix(y_test, svm_poly_pred_2)\n",
    "cm"
   ]
  },
  {
   "cell_type": "code",
   "execution_count": 97,
   "id": "347a54a1",
   "metadata": {},
   "outputs": [
    {
     "data": {
      "image/png": "[encoded data removed]",
      "text/plain": [
       "<Figure size 1500x800 with 2 Axes>"
      ]
     },
     "metadata": {},
     "output_type": "display_data"
    }
   ],
   "source": [
    "plt.figure(figsize = (15,8))\n",
    "sns.heatmap(cm, annot = True, fmt = 'd', cmap = \"Blues\")\n",
    "plt.xlabel(\"Predicted Species\")\n",
    "plt.ylabel(\"Actual Species\")\n",
    "plt.show()"
   ]
  },
  {
   "cell_type": "code",
   "execution_count": 111,
   "id": "738d2044",
   "metadata": {},
   "outputs": [
    {
     "data": {
      "text/plain": [
       "0.5925925925925926"
      ]
     },
     "execution_count": 111,
     "metadata": {},
     "output_type": "execute_result"
    }
   ],
   "source": [
    "accuracy_score(y_test, svm_poly_pred_3)"
   ]
  },
  {
   "cell_type": "code",
   "execution_count": 56,
   "id": "6a18e2a8",
   "metadata": {},
   "outputs": [],
   "source": [
    "svm_poly = SVC(kernel = 'poly', C = 350)"
   ]
  },
  {
   "cell_type": "code",
   "execution_count": 57,
   "id": "2557ca42",
   "metadata": {},
   "outputs": [
    {
     "data": {
      "text/html": [
       "<style>#sk-container-id-6 {color: black;background-color: white;}#sk-container-id-6 pre{padding: 0;}#sk-container-id-6 div.sk-toggleable {background-color: white;}#sk-container-id-6 label.sk-toggleable__label {cursor: pointer;display: block;width: 100%;margin-bottom: 0;padding: 0.3em;box-sizing: border-box;text-align: center;}#sk-container-id-6 label.sk-toggleable__label-arrow:before {content: \"▸\";float: left;margin-right: 0.25em;color: #696969;}#sk-container-id-6 label.sk-toggleable__label-arrow:hover:before {color: black;}#sk-container-id-6 div.sk-estimator:hover label.sk-toggleable__label-arrow:before {color: black;}#sk-container-id-6 div.sk-toggleable__content {max-height: 0;max-width: 0;overflow: hidden;text-align: left;background-color: #f0f8ff;}#sk-container-id-6 div.sk-toggleable__content pre {margin: 0.2em;color: black;border-radius: 0.25em;background-color: #f0f8ff;}#sk-container-id-6 input.sk-toggleable__control:checked~div.sk-toggleable__content {max-height: 200px;max-width: 100%;overflow: auto;}#sk-container-id-6 input.sk-toggleable__control:checked~label.sk-toggleable__label-arrow:before {content: \"▾\";}#sk-container-id-6 div.sk-estimator input.sk-toggleable__control:checked~label.sk-toggleable__label {background-color: #d4ebff;}#sk-container-id-6 div.sk-label input.sk-toggleable__control:checked~label.sk-toggleable__label {background-color: #d4ebff;}#sk-container-id-6 input.sk-hidden--visually {border: 0;clip: rect(1px 1px 1px 1px);clip: rect(1px, 1px, 1px, 1px);height: 1px;margin: -1px;overflow: hidden;padding: 0;position: absolute;width: 1px;}#sk-container-id-6 div.sk-estimator {font-family: monospace;background-color: #f0f8ff;border: 1px dotted black;border-radius: 0.25em;box-sizing: border-box;margin-bottom: 0.5em;}#sk-container-id-6 div.sk-estimator:hover {background-color: #d4ebff;}#sk-container-id-6 div.sk-parallel-item::after {content: \"\";width: 100%;border-bottom: 1px solid gray;flex-grow: 1;}#sk-container-id-6 div.sk-label:hover label.sk-toggleable__label {background-color: #d4ebff;}#sk-container-id-6 div.sk-serial::before {content: \"\";position: absolute;border-left: 1px solid gray;box-sizing: border-box;top: 0;bottom: 0;left: 50%;z-index: 0;}#sk-container-id-6 div.sk-serial {display: flex;flex-direction: column;align-items: center;background-color: white;padding-right: 0.2em;padding-left: 0.2em;position: relative;}#sk-container-id-6 div.sk-item {position: relative;z-index: 1;}#sk-container-id-6 div.sk-parallel {display: flex;align-items: stretch;justify-content: center;background-color: white;position: relative;}#sk-container-id-6 div.sk-item::before, #sk-container-id-6 div.sk-parallel-item::before {content: \"\";position: absolute;border-left: 1px solid gray;box-sizing: border-box;top: 0;bottom: 0;left: 50%;z-index: -1;}#sk-container-id-6 div.sk-parallel-item {display: flex;flex-direction: column;z-index: 1;position: relative;background-color: white;}#sk-container-id-6 div.sk-parallel-item:first-child::after {align-self: flex-end;width: 50%;}#sk-container-id-6 div.sk-parallel-item:last-child::after {align-self: flex-start;width: 50%;}#sk-container-id-6 div.sk-parallel-item:only-child::after {width: 0;}#sk-container-id-6 div.sk-dashed-wrapped {border: 1px dashed gray;margin: 0 0.4em 0.5em 0.4em;box-sizing: border-box;padding-bottom: 0.4em;background-color: white;}#sk-container-id-6 div.sk-label label {font-family: monospace;font-weight: bold;display: inline-block;line-height: 1.2em;}#sk-container-id-6 div.sk-label-container {text-align: center;}#sk-container-id-6 div.sk-container {/* jupyter's `normalize.less` sets `[hidden] { display: none; }` but bootstrap.min.css set `[hidden] { display: none !important; }` so we also need the `!important` here to be able to override the default hidden behavior on the sphinx rendered scikit-learn.org. See: https://github.com/scikit-learn/scikit-learn/issues/21755 */display: inline-block !important;position: relative;}#sk-container-id-6 div.sk-text-repr-fallback {display: none;}</style><div id=\"sk-container-id-6\" class=\"sk-top-container\"><div class=\"sk-text-repr-fallback\"><pre>SVC(C=350, kernel=&#x27;poly&#x27;)</pre><b>In a Jupyter environment, please rerun this cell to show the HTML representation or trust the notebook. <br />On GitHub, the HTML representation is unable to render, please try loading this page with nbviewer.org.</b></div><div class=\"sk-container\" hidden><div class=\"sk-item\"><div class=\"sk-estimator sk-toggleable\"><input class=\"sk-toggleable__control sk-hidden--visually\" id=\"sk-estimator-id-6\" type=\"checkbox\" checked><label for=\"sk-estimator-id-6\" class=\"sk-toggleable__label sk-toggleable__label-arrow\">SVC</label><div class=\"sk-toggleable__content\"><pre>SVC(C=350, kernel=&#x27;poly&#x27;)</pre></div></div></div></div></div>"
      ],
      "text/plain": [
       "SVC(C=350, kernel='poly')"
      ]
     },
     "execution_count": 57,
     "metadata": {},
     "output_type": "execute_result"
    }
   ],
   "source": [
    "svm_poly.fit(X_train,y_train)"
   ]
  },
  {
   "cell_type": "code",
   "execution_count": 58,
   "id": "a35dd08a",
   "metadata": {},
   "outputs": [],
   "source": [
    "svm_poly_pred_2 = svm_poly.predict(X_test)"
   ]
  },
  {
   "cell_type": "code",
   "execution_count": 59,
   "id": "9f2a328d",
   "metadata": {},
   "outputs": [],
   "source": [
    "cm = confusion_matrix(y_test, svm_poly_pred_2)"
   ]
  },
  {
   "cell_type": "code",
   "execution_count": 60,
   "id": "49fecbf9",
   "metadata": {},
   "outputs": [
    {
     "data": {
      "image/png": "[encoded data removed]",
      "text/plain": [
       "<Figure size 1500x800 with 2 Axes>"
      ]
     },
     "metadata": {},
     "output_type": "display_data"
    }
   ],
   "source": [
    "plt.figure(figsize = (15,8))\n",
    "sns.heatmap(cm, annot = True, fmt = 'd', cmap = \"Blues\")\n",
    "plt.xlabel(\"Predicted Species\")\n",
    "plt.ylabel(\"Actual Species\")\n",
    "plt.show()"
   ]
  },
  {
   "cell_type": "code",
   "execution_count": 61,
   "id": "68a59612",
   "metadata": {},
   "outputs": [
    {
     "data": {
      "text/plain": [
       "0.5909090909090909"
      ]
     },
     "execution_count": 61,
     "metadata": {},
     "output_type": "execute_result"
    }
   ],
   "source": [
    "accuracy_score(y_test, svm_poly_pred_2)"
   ]
  },
  {
   "cell_type": "code",
   "execution_count": 62,
   "id": "38c45ac3",
   "metadata": {},
   "outputs": [],
   "source": [
    "#Linear Kernel"
   ]
  },
  {
   "cell_type": "code",
   "execution_count": 63,
   "id": "85ae4c3a",
   "metadata": {},
   "outputs": [],
   "source": [
    "svm_lin = SVC(kernel = \"linear\")"
   ]
  },
  {
   "cell_type": "code",
   "execution_count": 64,
   "id": "3214e54b",
   "metadata": {},
   "outputs": [
    {
     "data": {
      "text/html": [
       "<style>#sk-container-id-7 {color: black;background-color: white;}#sk-container-id-7 pre{padding: 0;}#sk-container-id-7 div.sk-toggleable {background-color: white;}#sk-container-id-7 label.sk-toggleable__label {cursor: pointer;display: block;width: 100%;margin-bottom: 0;padding: 0.3em;box-sizing: border-box;text-align: center;}#sk-container-id-7 label.sk-toggleable__label-arrow:before {content: \"▸\";float: left;margin-right: 0.25em;color: #696969;}#sk-container-id-7 label.sk-toggleable__label-arrow:hover:before {color: black;}#sk-container-id-7 div.sk-estimator:hover label.sk-toggleable__label-arrow:before {color: black;}#sk-container-id-7 div.sk-toggleable__content {max-height: 0;max-width: 0;overflow: hidden;text-align: left;background-color: #f0f8ff;}#sk-container-id-7 div.sk-toggleable__content pre {margin: 0.2em;color: black;border-radius: 0.25em;background-color: #f0f8ff;}#sk-container-id-7 input.sk-toggleable__control:checked~div.sk-toggleable__content {max-height: 200px;max-width: 100%;overflow: auto;}#sk-container-id-7 input.sk-toggleable__control:checked~label.sk-toggleable__label-arrow:before {content: \"▾\";}#sk-container-id-7 div.sk-estimator input.sk-toggleable__control:checked~label.sk-toggleable__label {background-color: #d4ebff;}#sk-container-id-7 div.sk-label input.sk-toggleable__control:checked~label.sk-toggleable__label {background-color: #d4ebff;}#sk-container-id-7 input.sk-hidden--visually {border: 0;clip: rect(1px 1px 1px 1px);clip: rect(1px, 1px, 1px, 1px);height: 1px;margin: -1px;overflow: hidden;padding: 0;position: absolute;width: 1px;}#sk-container-id-7 div.sk-estimator {font-family: monospace;background-color: #f0f8ff;border: 1px dotted black;border-radius: 0.25em;box-sizing: border-box;margin-bottom: 0.5em;}#sk-container-id-7 div.sk-estimator:hover {background-color: #d4ebff;}#sk-container-id-7 div.sk-parallel-item::after {content: \"\";width: 100%;border-bottom: 1px solid gray;flex-grow: 1;}#sk-container-id-7 div.sk-label:hover label.sk-toggleable__label {background-color: #d4ebff;}#sk-container-id-7 div.sk-serial::before {content: \"\";position: absolute;border-left: 1px solid gray;box-sizing: border-box;top: 0;bottom: 0;left: 50%;z-index: 0;}#sk-container-id-7 div.sk-serial {display: flex;flex-direction: column;align-items: center;background-color: white;padding-right: 0.2em;padding-left: 0.2em;position: relative;}#sk-container-id-7 div.sk-item {position: relative;z-index: 1;}#sk-container-id-7 div.sk-parallel {display: flex;align-items: stretch;justify-content: center;background-color: white;position: relative;}#sk-container-id-7 div.sk-item::before, #sk-container-id-7 div.sk-parallel-item::before {content: \"\";position: absolute;border-left: 1px solid gray;box-sizing: border-box;top: 0;bottom: 0;left: 50%;z-index: -1;}#sk-container-id-7 div.sk-parallel-item {display: flex;flex-direction: column;z-index: 1;position: relative;background-color: white;}#sk-container-id-7 div.sk-parallel-item:first-child::after {align-self: flex-end;width: 50%;}#sk-container-id-7 div.sk-parallel-item:last-child::after {align-self: flex-start;width: 50%;}#sk-container-id-7 div.sk-parallel-item:only-child::after {width: 0;}#sk-container-id-7 div.sk-dashed-wrapped {border: 1px dashed gray;margin: 0 0.4em 0.5em 0.4em;box-sizing: border-box;padding-bottom: 0.4em;background-color: white;}#sk-container-id-7 div.sk-label label {font-family: monospace;font-weight: bold;display: inline-block;line-height: 1.2em;}#sk-container-id-7 div.sk-label-container {text-align: center;}#sk-container-id-7 div.sk-container {/* jupyter's `normalize.less` sets `[hidden] { display: none; }` but bootstrap.min.css set `[hidden] { display: none !important; }` so we also need the `!important` here to be able to override the default hidden behavior on the sphinx rendered scikit-learn.org. See: https://github.com/scikit-learn/scikit-learn/issues/21755 */display: inline-block !important;position: relative;}#sk-container-id-7 div.sk-text-repr-fallback {display: none;}</style><div id=\"sk-container-id-7\" class=\"sk-top-container\"><div class=\"sk-text-repr-fallback\"><pre>SVC(kernel=&#x27;linear&#x27;)</pre><b>In a Jupyter environment, please rerun this cell to show the HTML representation or trust the notebook. <br />On GitHub, the HTML representation is unable to render, please try loading this page with nbviewer.org.</b></div><div class=\"sk-container\" hidden><div class=\"sk-item\"><div class=\"sk-estimator sk-toggleable\"><input class=\"sk-toggleable__control sk-hidden--visually\" id=\"sk-estimator-id-7\" type=\"checkbox\" checked><label for=\"sk-estimator-id-7\" class=\"sk-toggleable__label sk-toggleable__label-arrow\">SVC</label><div class=\"sk-toggleable__content\"><pre>SVC(kernel=&#x27;linear&#x27;)</pre></div></div></div></div></div>"
      ],
      "text/plain": [
       "SVC(kernel='linear')"
      ]
     },
     "execution_count": 64,
     "metadata": {},
     "output_type": "execute_result"
    }
   ],
   "source": [
    "svm_lin.fit(X_train,y_train)"
   ]
  },
  {
   "cell_type": "code",
   "execution_count": 65,
   "id": "ee9e4f7a",
   "metadata": {},
   "outputs": [],
   "source": [
    "y_pred_lin = svm_lin.predict(X_test)"
   ]
  },
  {
   "cell_type": "code",
   "execution_count": 66,
   "id": "d643841e",
   "metadata": {},
   "outputs": [],
   "source": [
    "cm = confusion_matrix(y_test, y_pred_lin)"
   ]
  },
  {
   "cell_type": "code",
   "execution_count": 67,
   "id": "a64b5b46",
   "metadata": {},
   "outputs": [
    {
     "data": {
      "image/png": "[encoded data removed]",
      "text/plain": [
       "<Figure size 1500x800 with 2 Axes>"
      ]
     },
     "metadata": {},
     "output_type": "display_data"
    }
   ],
   "source": [
    "plt.figure(figsize = (15,8))\n",
    "sns.heatmap(cm, annot = True, fmt = 'd', cmap = \"Blues\")\n",
    "plt.xlabel(\"Predicted Species\")\n",
    "plt.ylabel(\"Actual Species\")\n",
    "plt.show()"
   ]
  },
  {
   "cell_type": "code",
   "execution_count": 68,
   "id": "e16606a0",
   "metadata": {},
   "outputs": [
    {
     "data": {
      "text/plain": [
       "0.7466329966329966"
      ]
     },
     "execution_count": 68,
     "metadata": {},
     "output_type": "execute_result"
    }
   ],
   "source": [
    "accuracy_score(y_test, y_pred_lin)"
   ]
  },
  {
   "cell_type": "code",
   "execution_count": 69,
   "id": "f1814ab7",
   "metadata": {},
   "outputs": [],
   "source": [
    "svm_lin = SVC(kernel = \"linear\", C = 104)"
   ]
  },
  {
   "cell_type": "code",
   "execution_count": 70,
   "id": "0be2db93",
   "metadata": {},
   "outputs": [
    {
     "data": {
      "text/html": [
       "<style>#sk-container-id-8 {color: black;background-color: white;}#sk-container-id-8 pre{padding: 0;}#sk-container-id-8 div.sk-toggleable {background-color: white;}#sk-container-id-8 label.sk-toggleable__label {cursor: pointer;display: block;width: 100%;margin-bottom: 0;padding: 0.3em;box-sizing: border-box;text-align: center;}#sk-container-id-8 label.sk-toggleable__label-arrow:before {content: \"▸\";float: left;margin-right: 0.25em;color: #696969;}#sk-container-id-8 label.sk-toggleable__label-arrow:hover:before {color: black;}#sk-container-id-8 div.sk-estimator:hover label.sk-toggleable__label-arrow:before {color: black;}#sk-container-id-8 div.sk-toggleable__content {max-height: 0;max-width: 0;overflow: hidden;text-align: left;background-color: #f0f8ff;}#sk-container-id-8 div.sk-toggleable__content pre {margin: 0.2em;color: black;border-radius: 0.25em;background-color: #f0f8ff;}#sk-container-id-8 input.sk-toggleable__control:checked~div.sk-toggleable__content {max-height: 200px;max-width: 100%;overflow: auto;}#sk-container-id-8 input.sk-toggleable__control:checked~label.sk-toggleable__label-arrow:before {content: \"▾\";}#sk-container-id-8 div.sk-estimator input.sk-toggleable__control:checked~label.sk-toggleable__label {background-color: #d4ebff;}#sk-container-id-8 div.sk-label input.sk-toggleable__control:checked~label.sk-toggleable__label {background-color: #d4ebff;}#sk-container-id-8 input.sk-hidden--visually {border: 0;clip: rect(1px 1px 1px 1px);clip: rect(1px, 1px, 1px, 1px);height: 1px;margin: -1px;overflow: hidden;padding: 0;position: absolute;width: 1px;}#sk-container-id-8 div.sk-estimator {font-family: monospace;background-color: #f0f8ff;border: 1px dotted black;border-radius: 0.25em;box-sizing: border-box;margin-bottom: 0.5em;}#sk-container-id-8 div.sk-estimator:hover {background-color: #d4ebff;}#sk-container-id-8 div.sk-parallel-item::after {content: \"\";width: 100%;border-bottom: 1px solid gray;flex-grow: 1;}#sk-container-id-8 div.sk-label:hover label.sk-toggleable__label {background-color: #d4ebff;}#sk-container-id-8 div.sk-serial::before {content: \"\";position: absolute;border-left: 1px solid gray;box-sizing: border-box;top: 0;bottom: 0;left: 50%;z-index: 0;}#sk-container-id-8 div.sk-serial {display: flex;flex-direction: column;align-items: center;background-color: white;padding-right: 0.2em;padding-left: 0.2em;position: relative;}#sk-container-id-8 div.sk-item {position: relative;z-index: 1;}#sk-container-id-8 div.sk-parallel {display: flex;align-items: stretch;justify-content: center;background-color: white;position: relative;}#sk-container-id-8 div.sk-item::before, #sk-container-id-8 div.sk-parallel-item::before {content: \"\";position: absolute;border-left: 1px solid gray;box-sizing: border-box;top: 0;bottom: 0;left: 50%;z-index: -1;}#sk-container-id-8 div.sk-parallel-item {display: flex;flex-direction: column;z-index: 1;position: relative;background-color: white;}#sk-container-id-8 div.sk-parallel-item:first-child::after {align-self: flex-end;width: 50%;}#sk-container-id-8 div.sk-parallel-item:last-child::after {align-self: flex-start;width: 50%;}#sk-container-id-8 div.sk-parallel-item:only-child::after {width: 0;}#sk-container-id-8 div.sk-dashed-wrapped {border: 1px dashed gray;margin: 0 0.4em 0.5em 0.4em;box-sizing: border-box;padding-bottom: 0.4em;background-color: white;}#sk-container-id-8 div.sk-label label {font-family: monospace;font-weight: bold;display: inline-block;line-height: 1.2em;}#sk-container-id-8 div.sk-label-container {text-align: center;}#sk-container-id-8 div.sk-container {/* jupyter's `normalize.less` sets `[hidden] { display: none; }` but bootstrap.min.css set `[hidden] { display: none !important; }` so we also need the `!important` here to be able to override the default hidden behavior on the sphinx rendered scikit-learn.org. See: https://github.com/scikit-learn/scikit-learn/issues/21755 */display: inline-block !important;position: relative;}#sk-container-id-8 div.sk-text-repr-fallback {display: none;}</style><div id=\"sk-container-id-8\" class=\"sk-top-container\"><div class=\"sk-text-repr-fallback\"><pre>SVC(C=10, kernel=&#x27;linear&#x27;)</pre><b>In a Jupyter environment, please rerun this cell to show the HTML representation or trust the notebook. <br />On GitHub, the HTML representation is unable to render, please try loading this page with nbviewer.org.</b></div><div class=\"sk-container\" hidden><div class=\"sk-item\"><div class=\"sk-estimator sk-toggleable\"><input class=\"sk-toggleable__control sk-hidden--visually\" id=\"sk-estimator-id-8\" type=\"checkbox\" checked><label for=\"sk-estimator-id-8\" class=\"sk-toggleable__label sk-toggleable__label-arrow\">SVC</label><div class=\"sk-toggleable__content\"><pre>SVC(C=10, kernel=&#x27;linear&#x27;)</pre></div></div></div></div></div>"
      ],
      "text/plain": [
       "SVC(C=10, kernel='linear')"
      ]
     },
     "execution_count": 70,
     "metadata": {},
     "output_type": "execute_result"
    }
   ],
   "source": [
    "svm_lin.fit(X_train,y_train)"
   ]
  },
  {
   "cell_type": "code",
   "execution_count": 71,
   "id": "415c512f",
   "metadata": {},
   "outputs": [],
   "source": [
    "y_pred_lin1 = svm_lin.predict(X_test)"
   ]
  },
  {
   "cell_type": "code",
   "execution_count": 72,
   "id": "c445c40e",
   "metadata": {},
   "outputs": [
    {
     "data": {
      "text/plain": [
       "array([[440, 150],\n",
       "       [154, 444]])"
      ]
     },
     "execution_count": 72,
     "metadata": {},
     "output_type": "execute_result"
    }
   ],
   "source": [
    "cm = confusion_matrix(y_test, y_pred_lin1)\n",
    "cm"
   ]
  },
  {
   "cell_type": "code",
   "execution_count": 73,
   "id": "6d8077c4",
   "metadata": {},
   "outputs": [
    {
     "data": {
      "image/png": "[encoded data removed]",
      "text/plain": [
       "<Figure size 1500x800 with 2 Axes>"
      ]
     },
     "metadata": {},
     "output_type": "display_data"
    }
   ],
   "source": [
    "plt.figure(figsize = (15,8))\n",
    "sns.heatmap(cm, annot = True, fmt = 'd', cmap = \"Blues\")\n",
    "plt.xlabel(\"Predicted Species\")\n",
    "plt.ylabel(\"Actual Species\")\n",
    "plt.show()"
   ]
  },
  {
   "cell_type": "code",
   "execution_count": 74,
   "id": "6e4d7df8",
   "metadata": {},
   "outputs": [
    {
     "data": {
      "text/plain": [
       "0.7466329966329966"
      ]
     },
     "execution_count": 74,
     "metadata": {},
     "output_type": "execute_result"
    }
   ],
   "source": [
    "accuracy_score(y_test, y_pred_lin)"
   ]
  },
  {
   "cell_type": "code",
   "execution_count": 99,
   "id": "0ba47a3b",
   "metadata": {},
   "outputs": [],
   "source": [
    "svm_lin = SVC(kernel = \"linear\", C = 216)"
   ]
  },
  {
   "cell_type": "code",
   "execution_count": 100,
   "id": "51887536",
   "metadata": {},
   "outputs": [
    {
     "data": {
      "text/html": [
       "<style>#sk-container-id-13 {color: black;background-color: white;}#sk-container-id-13 pre{padding: 0;}#sk-container-id-13 div.sk-toggleable {background-color: white;}#sk-container-id-13 label.sk-toggleable__label {cursor: pointer;display: block;width: 100%;margin-bottom: 0;padding: 0.3em;box-sizing: border-box;text-align: center;}#sk-container-id-13 label.sk-toggleable__label-arrow:before {content: \"▸\";float: left;margin-right: 0.25em;color: #696969;}#sk-container-id-13 label.sk-toggleable__label-arrow:hover:before {color: black;}#sk-container-id-13 div.sk-estimator:hover label.sk-toggleable__label-arrow:before {color: black;}#sk-container-id-13 div.sk-toggleable__content {max-height: 0;max-width: 0;overflow: hidden;text-align: left;background-color: #f0f8ff;}#sk-container-id-13 div.sk-toggleable__content pre {margin: 0.2em;color: black;border-radius: 0.25em;background-color: #f0f8ff;}#sk-container-id-13 input.sk-toggleable__control:checked~div.sk-toggleable__content {max-height: 200px;max-width: 100%;overflow: auto;}#sk-container-id-13 input.sk-toggleable__control:checked~label.sk-toggleable__label-arrow:before {content: \"▾\";}#sk-container-id-13 div.sk-estimator input.sk-toggleable__control:checked~label.sk-toggleable__label {background-color: #d4ebff;}#sk-container-id-13 div.sk-label input.sk-toggleable__control:checked~label.sk-toggleable__label {background-color: #d4ebff;}#sk-container-id-13 input.sk-hidden--visually {border: 0;clip: rect(1px 1px 1px 1px);clip: rect(1px, 1px, 1px, 1px);height: 1px;margin: -1px;overflow: hidden;padding: 0;position: absolute;width: 1px;}#sk-container-id-13 div.sk-estimator {font-family: monospace;background-color: #f0f8ff;border: 1px dotted black;border-radius: 0.25em;box-sizing: border-box;margin-bottom: 0.5em;}#sk-container-id-13 div.sk-estimator:hover {background-color: #d4ebff;}#sk-container-id-13 div.sk-parallel-item::after {content: \"\";width: 100%;border-bottom: 1px solid gray;flex-grow: 1;}#sk-container-id-13 div.sk-label:hover label.sk-toggleable__label {background-color: #d4ebff;}#sk-container-id-13 div.sk-serial::before {content: \"\";position: absolute;border-left: 1px solid gray;box-sizing: border-box;top: 0;bottom: 0;left: 50%;z-index: 0;}#sk-container-id-13 div.sk-serial {display: flex;flex-direction: column;align-items: center;background-color: white;padding-right: 0.2em;padding-left: 0.2em;position: relative;}#sk-container-id-13 div.sk-item {position: relative;z-index: 1;}#sk-container-id-13 div.sk-parallel {display: flex;align-items: stretch;justify-content: center;background-color: white;position: relative;}#sk-container-id-13 div.sk-item::before, #sk-container-id-13 div.sk-parallel-item::before {content: \"\";position: absolute;border-left: 1px solid gray;box-sizing: border-box;top: 0;bottom: 0;left: 50%;z-index: -1;}#sk-container-id-13 div.sk-parallel-item {display: flex;flex-direction: column;z-index: 1;position: relative;background-color: white;}#sk-container-id-13 div.sk-parallel-item:first-child::after {align-self: flex-end;width: 50%;}#sk-container-id-13 div.sk-parallel-item:last-child::after {align-self: flex-start;width: 50%;}#sk-container-id-13 div.sk-parallel-item:only-child::after {width: 0;}#sk-container-id-13 div.sk-dashed-wrapped {border: 1px dashed gray;margin: 0 0.4em 0.5em 0.4em;box-sizing: border-box;padding-bottom: 0.4em;background-color: white;}#sk-container-id-13 div.sk-label label {font-family: monospace;font-weight: bold;display: inline-block;line-height: 1.2em;}#sk-container-id-13 div.sk-label-container {text-align: center;}#sk-container-id-13 div.sk-container {/* jupyter's `normalize.less` sets `[hidden] { display: none; }` but bootstrap.min.css set `[hidden] { display: none !important; }` so we also need the `!important` here to be able to override the default hidden behavior on the sphinx rendered scikit-learn.org. See: https://github.com/scikit-learn/scikit-learn/issues/21755 */display: inline-block !important;position: relative;}#sk-container-id-13 div.sk-text-repr-fallback {display: none;}</style><div id=\"sk-container-id-13\" class=\"sk-top-container\"><div class=\"sk-text-repr-fallback\"><pre>SVC(C=216, kernel=&#x27;linear&#x27;)</pre><b>In a Jupyter environment, please rerun this cell to show the HTML representation or trust the notebook. <br />On GitHub, the HTML representation is unable to render, please try loading this page with nbviewer.org.</b></div><div class=\"sk-container\" hidden><div class=\"sk-item\"><div class=\"sk-estimator sk-toggleable\"><input class=\"sk-toggleable__control sk-hidden--visually\" id=\"sk-estimator-id-13\" type=\"checkbox\" checked><label for=\"sk-estimator-id-13\" class=\"sk-toggleable__label sk-toggleable__label-arrow\">SVC</label><div class=\"sk-toggleable__content\"><pre>SVC(C=216, kernel=&#x27;linear&#x27;)</pre></div></div></div></div></div>"
      ],
      "text/plain": [
       "SVC(C=216, kernel='linear')"
      ]
     },
     "execution_count": 100,
     "metadata": {},
     "output_type": "execute_result"
    }
   ],
   "source": [
    "svm_lin.fit(X_train,y_train)"
   ]
  },
  {
   "cell_type": "code",
   "execution_count": 101,
   "id": "74ff985e",
   "metadata": {},
   "outputs": [],
   "source": [
    "y_pred_lin2 = svm_lin.predict(X_test)"
   ]
  },
  {
   "cell_type": "code",
   "execution_count": 102,
   "id": "6e9f094f",
   "metadata": {},
   "outputs": [
    {
     "data": {
      "text/plain": [
       "array([[415, 175],\n",
       "       [154, 444]])"
      ]
     },
     "execution_count": 102,
     "metadata": {},
     "output_type": "execute_result"
    }
   ],
   "source": [
    "cm = confusion_matrix(y_test, y_pred_lin2)\n",
    "cm"
   ]
  },
  {
   "cell_type": "code",
   "execution_count": 103,
   "id": "51604a7c",
   "metadata": {},
   "outputs": [
    {
     "data": {
      "image/png": "[encoded data removed]",
      "text/plain": [
       "<Figure size 1500x800 with 2 Axes>"
      ]
     },
     "metadata": {},
     "output_type": "display_data"
    }
   ],
   "source": [
    "plt.figure(figsize = (15,8))\n",
    "sns.heatmap(cm, annot = True, fmt = 'd', cmap = \"Blues\")\n",
    "plt.xlabel(\"Predicted Species\")\n",
    "plt.ylabel(\"Actual Species\")\n",
    "plt.show()"
   ]
  },
  {
   "cell_type": "code",
   "execution_count": 104,
   "id": "91f30257",
   "metadata": {},
   "outputs": [
    {
     "data": {
      "text/plain": [
       "0.7466329966329966"
      ]
     },
     "execution_count": 104,
     "metadata": {},
     "output_type": "execute_result"
    }
   ],
   "source": [
    "accuracy_score(y_test, y_pred_lin)"
   ]
  },
  {
   "cell_type": "code",
   "execution_count": null,
   "id": "e3203a01",
   "metadata": {},
   "outputs": [],
   "source": []
  },
  {
   "cell_type": "code",
   "execution_count": null,
   "id": "bbb0ae9d",
   "metadata": {},
   "outputs": [],
   "source": []
  },
  {
   "cell_type": "code",
   "execution_count": 112,
   "id": "7a6a3084",
   "metadata": {},
   "outputs": [],
   "source": [
    "svm_lin = SVC(kernel = \"linear\", C = 500)"
   ]
  },
  {
   "cell_type": "code",
   "execution_count": 113,
   "id": "6786259e",
   "metadata": {},
   "outputs": [
    {
     "data": {
      "text/html": [
       "<style>#sk-container-id-15 {color: black;background-color: white;}#sk-container-id-15 pre{padding: 0;}#sk-container-id-15 div.sk-toggleable {background-color: white;}#sk-container-id-15 label.sk-toggleable__label {cursor: pointer;display: block;width: 100%;margin-bottom: 0;padding: 0.3em;box-sizing: border-box;text-align: center;}#sk-container-id-15 label.sk-toggleable__label-arrow:before {content: \"▸\";float: left;margin-right: 0.25em;color: #696969;}#sk-container-id-15 label.sk-toggleable__label-arrow:hover:before {color: black;}#sk-container-id-15 div.sk-estimator:hover label.sk-toggleable__label-arrow:before {color: black;}#sk-container-id-15 div.sk-toggleable__content {max-height: 0;max-width: 0;overflow: hidden;text-align: left;background-color: #f0f8ff;}#sk-container-id-15 div.sk-toggleable__content pre {margin: 0.2em;color: black;border-radius: 0.25em;background-color: #f0f8ff;}#sk-container-id-15 input.sk-toggleable__control:checked~div.sk-toggleable__content {max-height: 200px;max-width: 100%;overflow: auto;}#sk-container-id-15 input.sk-toggleable__control:checked~label.sk-toggleable__label-arrow:before {content: \"▾\";}#sk-container-id-15 div.sk-estimator input.sk-toggleable__control:checked~label.sk-toggleable__label {background-color: #d4ebff;}#sk-container-id-15 div.sk-label input.sk-toggleable__control:checked~label.sk-toggleable__label {background-color: #d4ebff;}#sk-container-id-15 input.sk-hidden--visually {border: 0;clip: rect(1px 1px 1px 1px);clip: rect(1px, 1px, 1px, 1px);height: 1px;margin: -1px;overflow: hidden;padding: 0;position: absolute;width: 1px;}#sk-container-id-15 div.sk-estimator {font-family: monospace;background-color: #f0f8ff;border: 1px dotted black;border-radius: 0.25em;box-sizing: border-box;margin-bottom: 0.5em;}#sk-container-id-15 div.sk-estimator:hover {background-color: #d4ebff;}#sk-container-id-15 div.sk-parallel-item::after {content: \"\";width: 100%;border-bottom: 1px solid gray;flex-grow: 1;}#sk-container-id-15 div.sk-label:hover label.sk-toggleable__label {background-color: #d4ebff;}#sk-container-id-15 div.sk-serial::before {content: \"\";position: absolute;border-left: 1px solid gray;box-sizing: border-box;top: 0;bottom: 0;left: 50%;z-index: 0;}#sk-container-id-15 div.sk-serial {display: flex;flex-direction: column;align-items: center;background-color: white;padding-right: 0.2em;padding-left: 0.2em;position: relative;}#sk-container-id-15 div.sk-item {position: relative;z-index: 1;}#sk-container-id-15 div.sk-parallel {display: flex;align-items: stretch;justify-content: center;background-color: white;position: relative;}#sk-container-id-15 div.sk-item::before, #sk-container-id-15 div.sk-parallel-item::before {content: \"\";position: absolute;border-left: 1px solid gray;box-sizing: border-box;top: 0;bottom: 0;left: 50%;z-index: -1;}#sk-container-id-15 div.sk-parallel-item {display: flex;flex-direction: column;z-index: 1;position: relative;background-color: white;}#sk-container-id-15 div.sk-parallel-item:first-child::after {align-self: flex-end;width: 50%;}#sk-container-id-15 div.sk-parallel-item:last-child::after {align-self: flex-start;width: 50%;}#sk-container-id-15 div.sk-parallel-item:only-child::after {width: 0;}#sk-container-id-15 div.sk-dashed-wrapped {border: 1px dashed gray;margin: 0 0.4em 0.5em 0.4em;box-sizing: border-box;padding-bottom: 0.4em;background-color: white;}#sk-container-id-15 div.sk-label label {font-family: monospace;font-weight: bold;display: inline-block;line-height: 1.2em;}#sk-container-id-15 div.sk-label-container {text-align: center;}#sk-container-id-15 div.sk-container {/* jupyter's `normalize.less` sets `[hidden] { display: none; }` but bootstrap.min.css set `[hidden] { display: none !important; }` so we also need the `!important` here to be able to override the default hidden behavior on the sphinx rendered scikit-learn.org. See: https://github.com/scikit-learn/scikit-learn/issues/21755 */display: inline-block !important;position: relative;}#sk-container-id-15 div.sk-text-repr-fallback {display: none;}</style><div id=\"sk-container-id-15\" class=\"sk-top-container\"><div class=\"sk-text-repr-fallback\"><pre>SVC(C=500, kernel=&#x27;linear&#x27;)</pre><b>In a Jupyter environment, please rerun this cell to show the HTML representation or trust the notebook. <br />On GitHub, the HTML representation is unable to render, please try loading this page with nbviewer.org.</b></div><div class=\"sk-container\" hidden><div class=\"sk-item\"><div class=\"sk-estimator sk-toggleable\"><input class=\"sk-toggleable__control sk-hidden--visually\" id=\"sk-estimator-id-15\" type=\"checkbox\" checked><label for=\"sk-estimator-id-15\" class=\"sk-toggleable__label sk-toggleable__label-arrow\">SVC</label><div class=\"sk-toggleable__content\"><pre>SVC(C=500, kernel=&#x27;linear&#x27;)</pre></div></div></div></div></div>"
      ],
      "text/plain": [
       "SVC(C=500, kernel='linear')"
      ]
     },
     "execution_count": 113,
     "metadata": {},
     "output_type": "execute_result"
    }
   ],
   "source": [
    "svm_lin.fit(X_train,y_train)"
   ]
  },
  {
   "cell_type": "code",
   "execution_count": 114,
   "id": "2adc2830",
   "metadata": {},
   "outputs": [],
   "source": [
    "y_pred_lin3 = svm_lin.predict(X_test)"
   ]
  },
  {
   "cell_type": "code",
   "execution_count": 115,
   "id": "1975546e",
   "metadata": {},
   "outputs": [
    {
     "data": {
      "text/plain": [
       "array([[415, 175],\n",
       "       [154, 444]])"
      ]
     },
     "execution_count": 115,
     "metadata": {},
     "output_type": "execute_result"
    }
   ],
   "source": [
    "cm = confusion_matrix(y_test, y_pred_lin2)\n",
    "cm"
   ]
  },
  {
   "cell_type": "code",
   "execution_count": 116,
   "id": "1c98849d",
   "metadata": {},
   "outputs": [
    {
     "data": {
      "image/png": "[encoded data removed]",
      "text/plain": [
       "<Figure size 1500x800 with 2 Axes>"
      ]
     },
     "metadata": {},
     "output_type": "display_data"
    }
   ],
   "source": [
    "plt.figure(figsize = (15,8))\n",
    "sns.heatmap(cm, annot = True, fmt = 'd', cmap = \"Blues\")\n",
    "plt.xlabel(\"Predicted Species\")\n",
    "plt.ylabel(\"Actual Species\")\n",
    "plt.show()"
   ]
  },
  {
   "cell_type": "code",
   "execution_count": 118,
   "id": "215a0396",
   "metadata": {},
   "outputs": [
    {
     "data": {
      "text/plain": [
       "0.7230639730639731"
      ]
     },
     "execution_count": 118,
     "metadata": {},
     "output_type": "execute_result"
    }
   ],
   "source": [
    "accuracy_score(y_test, y_pred_lin3)"
   ]
  },
  {
   "cell_type": "code",
   "execution_count": null,
   "id": "9b986ac2",
   "metadata": {},
   "outputs": [],
   "source": []
  },
  {
   "cell_type": "code",
   "execution_count": 84,
   "id": "4a1a1b57",
   "metadata": {},
   "outputs": [],
   "source": [
    "def plot_coefficients(MODEL=svm_lin, COLNAMES=train_df.columns, top_features=10):\n",
    "    coef = MODEL.coef_.ravel()\n",
    "    top_positive_coefficients = np.argsort(coef,axis=0)[-top_features:]\n",
    "    top_negative_coefficients = np.argsort(coef,axis=0)[:top_features]\n",
    "    top_coefficients = np.hstack([top_negative_coefficients, top_positive_coefficients])\n",
    "    plt.figure(figsize=(15, 5))\n",
    "    colors = [\"red\" if c < 0 else \"blue\" for c in coef[top_coefficients]]\n",
    "    plt.bar(  x=  np.arange(2 * top_features)  , height=coef[top_coefficients], width=.5,  color=colors)\n",
    "    feature_names = np.array(COLNAMES)\n",
    "    plt.xticks(np.arange(0, (2*top_features)), feature_names[top_coefficients], rotation=60, ha=\"right\")\n",
    "    plt.show()\n",
    "    "
   ]
  },
  {
   "cell_type": "code",
   "execution_count": 85,
   "id": "9a33bc39",
   "metadata": {},
   "outputs": [
    {
     "data": {
      "image/png": "[encoded data removed]",
      "text/plain": [
       "<Figure size 1500x500 with 1 Axes>"
      ]
     },
     "metadata": {},
     "output_type": "display_data"
    },
    {
     "data": {
      "text/plain": [
       "<Figure size 640x480 with 0 Axes>"
      ]
     },
     "metadata": {},
     "output_type": "display_data"
    }
   ],
   "source": [
    "plot_coefficients()\n",
    "plt.savefig('KeyWords.pdf')"
   ]
  },
  {
   "cell_type": "code",
   "execution_count": null,
   "id": "6152f5ac",
   "metadata": {},
   "outputs": [],
   "source": []
  }
 ],
 "metadata": {
  "kernelspec": {
   "display_name": "Python 3 (ipykernel)",
   "language": "python",
   "name": "python3"
  },
  "language_info": {
   "codemirror_mode": {
    "name": "ipython",
    "version": 3
   },
   "file_extension": ".py",
   "mimetype": "text/x-python",
   "name": "python",
   "nbconvert_exporter": "python",
   "pygments_lexer": "ipython3",
   "version": "3.9.16"
  }
 },
 "nbformat": 4,
 "nbformat_minor": 5
}
